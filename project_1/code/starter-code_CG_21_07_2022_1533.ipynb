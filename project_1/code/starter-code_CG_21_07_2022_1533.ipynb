{
 "cells": [
  {
   "cell_type": "markdown",
   "metadata": {},
   "source": [
    "<img src=\"http://imgur.com/1ZcRyrc.png\" style=\"float: left; margin: 20px; height: 55px\">\n",
    "\n",
    "# Project 1: Standardized Test Analysis"
   ]
  },
  {
   "cell_type": "markdown",
   "metadata": {},
   "source": [
    "--- \n",
    "# Part 1\n",
    "\n",
    "Part 1 requires knowledge of basic Python.\n",
    "\n",
    "---"
   ]
  },
  {
   "cell_type": "markdown",
   "metadata": {},
   "source": [
    "## Problem Statement"
   ]
  },
  {
   "cell_type": "markdown",
   "metadata": {},
   "source": [
    "Decide on your problem statement that will guide your analysis for this project. For guidelines, sample prompts, or inspiration, check out the README.\n",
    "\n",
    "**To-Do:** *Replace this cell with your problem statement.*"
   ]
  },
  {
   "cell_type": "markdown",
   "metadata": {},
   "source": [
    "### Contents:\n",
    "- [Background](#Background)\n",
    "- [Data Import & Cleaning](#Data-Import-and-Cleaning)\n",
    "- [Exploratory Data Analysis](#Exploratory-Data-Analysis)\n",
    "- [Data Visualization](#Visualize-the-Data)\n",
    "- [Conclusions and Recommendations](#Conclusions-and-Recommendations)"
   ]
  },
  {
   "cell_type": "markdown",
   "metadata": {},
   "source": [
    "## Background"
   ]
  },
  {
   "cell_type": "markdown",
   "metadata": {},
   "source": [
    "The SAT and ACT are standardized tests that many colleges and universities in the United States require for their admissions process. This score is used along with other materials such as grade point average (GPA) and essay responses to determine whether or not a potential student will be accepted to the university.\n",
    "\n",
    "The SAT has two sections of the test: Evidence-Based Reading and Writing and Math ([*source*](https://www.princetonreview.com/college/sat-sections)). The ACT has 4 sections: English, Mathematics, Reading, and Science, with an additional optional writing section ([*source*](https://www.act.org/content/act/en/products-and-services/the-act/scores/understanding-your-scores.html)). They have different score ranges, which you can read more about on their websites or additional outside sources (a quick Google search will help you understand the scores for each test):\n",
    "* [SAT](https://collegereadiness.collegeboard.org/sat)\n",
    "* [ACT](https://www.act.org/content/act/en.html)\n",
    "\n",
    "Standardized tests have long been a controversial topic for students, administrators, and legislators. Since the 1940's, an increasing number of colleges have been using scores from sudents' performances on tests like the SAT and the ACT as a measure for college readiness and aptitude ([*source*](https://www.minotdailynews.com/news/local-news/2017/04/a-brief-history-of-the-sat-and-act/)). Supporters of these tests argue that these scores can be used as an objective measure to determine college admittance. Opponents of these tests claim that these tests are not accurate measures of students potential or ability and serve as an inequitable barrier to entry. Lately, more and more schools are opting to drop the SAT/ACT requirement for their Fall 2021 applications ([*read more about this here*](https://www.cnn.com/2020/04/14/us/coronavirus-colleges-sat-act-test-trnd/index.html))."
   ]
  },
  {
   "cell_type": "markdown",
   "metadata": {},
   "source": [
    "**To-Do:** *Fill out this cell (or edit the above cell) with any other background or information that is necessary for your problem statement.*"
   ]
  },
  {
   "cell_type": "markdown",
   "metadata": {},
   "source": [
    "### Choose your Data\n",
    "\n",
    "There are 10 datasets included in the [`data`](./data/) folder for this project. You are required to pick **at least two** of these to complete your analysis. Feel free to use more than two if you would like, or add other relevant datasets you find online.\n",
    "\n",
    "* [`act_2017.csv`](./data/act_2017.csv): 2017 ACT Scores by State\n",
    "* [`act_2018.csv`](./data/act_2018.csv): 2018 ACT Scores by State\n",
    "* [`act_2019.csv`](./data/act_2019.csv): 2019 ACT Scores by State\n",
    "* [`act_2019_ca.csv`](./data/act_2019_ca.csv): 2019 ACT Scores in California by School\n",
    "* [`sat_2017.csv`](./data/sat_2017.csv): 2017 SAT Scores by State\n",
    "* [`sat_2018.csv`](./data/sat_2018.csv): 2018 SAT Scores by State\n",
    "* [`sat_2019.csv`](./data/sat_2019.csv): 2019 SAT Scores by State\n",
    "* [`sat_2019_by_intended_college_major.csv`](./data/sat_2019_by_intended_college_major.csv): 2019 SAT Scores by Intended College Major\n",
    "* [`sat_2019_ca.csv`](./data/sat_2019_ca.csv): 2019 SAT Scores in California by School\n",
    "* [`sat_act_by_college.csv`](./data/sat_act_by_college.csv): Ranges of Accepted ACT & SAT Student Scores by Colleges"
   ]
  },
  {
   "cell_type": "markdown",
   "metadata": {},
   "source": [
    "**To-Do:** *Fill out this cell with the datasets you will use for your analysis. Write a brief description of the contents for each dataset that you choose.*"
   ]
  },
  {
   "cell_type": "code",
   "execution_count": 1,
   "metadata": {},
   "outputs": [],
   "source": [
    "##### TO COMPLETE\n",
    "#  (./data/sat_2017.csv): 2019 SAT Scores by State\n",
    "#  (./data/sat_2018.csv): 2019 SAT Scores by State\n",
    "#  (./data/sat_2019.csv): 2019 SAT Scores by State\n",
    "#* (./data/sat_2019_by_intended_college_major.csv):2019 SAT Scores by Intended College Major"
   ]
  },
  {
   "cell_type": "markdown",
   "metadata": {},
   "source": [
    "### Outside Research"
   ]
  },
  {
   "cell_type": "markdown",
   "metadata": {},
   "source": [
    "Based on your problem statement and your chosen datasets, spend some time doing outside research on state policies or additional information that might be relevant. Summarize your findings below. If you bring in any outside tables or charts, make sure you are explicit about having borrowed them. If you quote any text, make sure that it renders as being quoted. **Make sure that you cite your sources.**"
   ]
  },
  {
   "cell_type": "markdown",
   "metadata": {},
   "source": [
    "**To-Do:** *Fill out this cell with outside research or any additional background information that will support your analysis.*\n",
    " \n",
    "from 2022,PRO TEST https://www.theatlantic.com/ideas/archive/2022/04/mit-admissions-reinstates-sat-act-tests/629455/\n",
    "Inequalities in accessing college is due to lifelong social inequalities rather than  Stadardized testing:\n",
    "SAT / ACT actually seem to provide a levelling platform, as otherwise candidates would rely on extremely biaised means like essays or recommendation letters \n",
    "standardized testing is the lesser of two evils as MIT has chosen to re-instate it for fall 2023 admissions\n",
    "\n",
    "\n",
    "from 2019, AGAINST TEST https://www.washingtonpost.com/education/2019/03/19/is-it-finally-time-get-rid-sat-act-college-admissions-tests/\n",
    "seems to support that test - optional admissions actually yield good results. in TOP institutions,  graduation rates marginally differ between students who submitted a test upon their admission, and students who did not  \n",
    "also highlights a couple of scandals linked to tests\n",
    "\n",
    "Both articles argue that their view is helping students to get to high education. It reflects the deep inequalities that students face when applying for college."
   ]
  },
  {
   "cell_type": "markdown",
   "metadata": {},
   "source": [
    "*Some states have a contract with the SAT to provide free tests to all juniors. States with existing SAT partnerships include Colorado, Connecticut, Delaware, District of Columbia, Idaho, Illinois, Indiana, Michigan, New Hampshire, Rhode Island, Texas, and West Virginia*<br>\n",
    "https://www.testgeek.com/blog/a-look-at-the-average-sat-score-by-state/"
   ]
  },
  {
   "cell_type": "markdown",
   "metadata": {},
   "source": [
    "\n",
    "*Problem statement could be*: <br>\n",
    "\"Does looking at SAT scores averages per state paints a correct picture of academic performance for a given state\"?\n",
    " \n",
    "FOCUS on SAT - \n",
    "https://sat.edu.sg/sat-guide/score-guide/#:~:text=Instead%2C%20the%20SAT%20is%20scored,might%20be%20harder%20than%20others."
   ]
  },
  {
   "cell_type": "markdown",
   "metadata": {},
   "source": [
    "### Coding Challenges\n",
    "\n",
    "1. Manually calculate mean:\n",
    "\n",
    "    Write a function that takes in values and returns the mean of the values. Create a list of numbers that you test on your function to check to make sure your function works!\n",
    "    \n",
    "    *Note*: Do not use any mean methods built-in to any Python libraries to do this! This should be done without importing any additional libraries."
   ]
  },
  {
   "cell_type": "code",
   "execution_count": 2,
   "metadata": {},
   "outputs": [
    {
     "data": {
      "text/plain": [
       "6.0"
      ]
     },
     "execution_count": 2,
     "metadata": {},
     "output_type": "execute_result"
    }
   ],
   "source": [
    "def my_average (list_of_numbers): # creating function\n",
    "    my_sum = sum(list_of_numbers) # get the sum of list arguments\n",
    "    my_count = len(list_of_numbers) # get the count\n",
    "    final_average = my_sum / my_count # ratio for average\n",
    "    return final_average\n",
    "\n",
    " # try with random list\n",
    "my_list = [1,2,3,4,5,6,7,8,9,10,11]\n",
    "my_average (my_list)"
   ]
  },
  {
   "cell_type": "markdown",
   "metadata": {},
   "source": [
    "2. Manually calculate standard deviation:\n",
    "\n",
    "    The formula for standard deviation is below:\n",
    "\n",
    "    $$\\sigma = \\sqrt{\\frac{1}{n}\\sum_{i=1}^n(x_i - \\mu)^2}$$\n",
    "\n",
    "    Where $x_i$ represents each value in the dataset, $\\mu$ represents the mean of all values in the dataset and $n$ represents the number of values in the dataset.\n",
    "\n",
    "    Write a function that takes in values and returns the standard deviation of the values using the formula above. Hint: use the function you wrote above to calculate the mean! Use the list of numbers you created above to test on your function.\n",
    "    \n",
    "    *Note*: Do not use any standard deviation methods built-in to any Python libraries to do this! This should be done without importing any additional libraries."
   ]
  },
  {
   "cell_type": "code",
   "execution_count": 3,
   "metadata": {},
   "outputs": [],
   "source": [
    "import numpy as np # for numerical and stats functionalities"
   ]
  },
  {
   "cell_type": "code",
   "execution_count": 4,
   "metadata": {},
   "outputs": [],
   "source": [
    "# Code:\n",
    "\n",
    "def standard_dev_func (x):\n",
    "    temp_list=[] #creating a storage list for each temp_value defined later\n",
    "    for each_val in x:\n",
    "        temp_val = (each_val - my_average(x))**2 # focusing on the inside the square root part first\n",
    "        temp_list.append(temp_val) # append list ready for the sum\n",
    "    variance = sum(temp_list) / len(temp_list) # execute sum and get the average\n",
    "    stdev = round(variance **(1/2),2) # take the squareroot of x = x (exponent 0.5). rounding result at 2 decimals using the round function\n",
    "    return stdev\n",
    "    "
   ]
  },
  {
   "cell_type": "code",
   "execution_count": 5,
   "metadata": {},
   "outputs": [
    {
     "data": {
      "text/plain": [
       "1.71"
      ]
     },
     "execution_count": 5,
     "metadata": {},
     "output_type": "execute_result"
    }
   ],
   "source": [
    "#testing the function\n",
    "my_new_list=[1,2,3,4,5,6]\n",
    "standard_dev_func(my_new_list)"
   ]
  },
  {
   "cell_type": "markdown",
   "metadata": {},
   "source": [
    "3. Data cleaning function:\n",
    "    \n",
    "    Write a function that takes in a string that is a number and a percent symbol (ex. '50%', '30.5%', etc.) and converts this to a float that is the decimal approximation of the percent. For example, inputting '50%' in your function should return 0.5, '30.5%' should return 0.305, etc. Make sure to test your function to make sure it works!\n",
    "\n",
    "You will use these functions later on in the project!"
   ]
  },
  {
   "cell_type": "code",
   "execution_count": 6,
   "metadata": {},
   "outputs": [],
   "source": [
    "#creating the function\n",
    "def str_to_float (some_numbers):\n",
    "    try:\n",
    "        if \"%\" in some_numbers:\n",
    "            string_no_percent= some_numbers.replace('%','') # using replace method\n",
    "            extracted_value = round(float(string_no_percent),2) #converting into a rounded number\n",
    "            decimal = extracted_value/100\n",
    "            return decimal\n",
    "            \n",
    "        if some_numbers.isempty() == True or some_numbers == np.nan:\n",
    "            return 0.0\n",
    "        else :\n",
    "            return 0.0 #for the sat_2019 case where - are converted into \"Nan\"\n",
    "    except:\n",
    "        return 0.0"
   ]
  },
  {
   "cell_type": "code",
   "execution_count": 7,
   "metadata": {},
   "outputs": [
    {
     "data": {
      "text/plain": [
       "0.4889"
      ]
     },
     "execution_count": 7,
     "metadata": {},
     "output_type": "execute_result"
    }
   ],
   "source": [
    "#testing the function\n",
    "str_to_float('48.887%')"
   ]
  },
  {
   "cell_type": "markdown",
   "metadata": {},
   "source": [
    "--- \n",
    "# Part 2\n",
    "\n",
    "Part 2 requires knowledge of Pandas, EDA, data cleaning, and data visualization.\n",
    "\n",
    "---"
   ]
  },
  {
   "cell_type": "markdown",
   "metadata": {},
   "source": [
    "*All libraries used should be added here*"
   ]
  },
  {
   "cell_type": "code",
   "execution_count": 8,
   "metadata": {},
   "outputs": [],
   "source": [
    "# Imports:\n",
    "import numpy as np # for numerical and stats functionalities\n",
    "import pandas as pd # for working with tables\n",
    "import matplotlib as plt # for dataviz\n",
    "import seaborn as sns # for dataviz"
   ]
  },
  {
   "cell_type": "markdown",
   "metadata": {},
   "source": [
    "## Data Import and Cleaning"
   ]
  },
  {
   "cell_type": "markdown",
   "metadata": {},
   "source": [
    "### Data Import & Cleaning\n",
    "\n",
    "Import the datasets that you selected for this project and go through the following steps at a minimum. You are welcome to do further cleaning as you feel necessary:\n",
    "1. Display the data: print the first 5 rows of each dataframe to your Jupyter notebook.\n",
    "2. Check for missing values.\n",
    "3. Check for any obvious issues with the observations (keep in mind the minimum & maximum possible values for each test/subtest).\n",
    "4. Fix any errors you identified in steps 2-3.\n",
    "5. Display the data types of each feature.\n",
    "6. Fix any incorrect data types found in step 5.\n",
    "    - Fix any individual values preventing other columns from being the appropriate type.\n",
    "    - If your dataset has a column of percents (ex. '50%', '30.5%', etc.), use the function you wrote in Part 1 (coding challenges, number 3) to convert this to floats! *Hint*: use `.map()` or `.apply()`.\n",
    "7. Rename Columns.\n",
    "    - Column names should be all lowercase.\n",
    "    - Column names should not contain spaces (underscores will suffice--this allows for using the `df.column_name` method to access columns in addition to `df['column_name']`).\n",
    "    - Column names should be unique and informative.\n",
    "8. Drop unnecessary rows (if needed).\n",
    "9. Merge dataframes that can be merged.\n",
    "10. Perform any additional cleaning that you feel is necessary.\n",
    "11. Save your cleaned and merged dataframes as csv files."
   ]
  },
  {
   "cell_type": "markdown",
   "metadata": {},
   "source": [
    "#1. Display the data: print the first 5 rows of each dataframe to your Jupyter notebook."
   ]
  },
  {
   "cell_type": "code",
   "execution_count": 9,
   "metadata": {},
   "outputs": [],
   "source": [
    "#1.1 loading the files - focusing on SAT trends\n",
    "sat_2017_df = pd.read_csv('../data/sat_2017.csv')\n",
    "sat_2018_df = pd.read_csv('../data/sat_2018.csv')\n",
    "sat_2019_df = pd.read_csv('../data/sat_2019.csv') \n",
    "sat_2019_intended_major = pd.read_csv('../data/sat_2019_by_intended_college_major.csv') #:2019 SAT Scores by Intended College Major, \n",
    "\n",
    "# #1.2 displayin the first five rows"
   ]
  },
  {
   "cell_type": "code",
   "execution_count": 10,
   "metadata": {},
   "outputs": [
    {
     "data": {
      "text/html": [
       "<div>\n",
       "<style scoped>\n",
       "    .dataframe tbody tr th:only-of-type {\n",
       "        vertical-align: middle;\n",
       "    }\n",
       "\n",
       "    .dataframe tbody tr th {\n",
       "        vertical-align: top;\n",
       "    }\n",
       "\n",
       "    .dataframe thead th {\n",
       "        text-align: right;\n",
       "    }\n",
       "</style>\n",
       "<table border=\"1\" class=\"dataframe\">\n",
       "  <thead>\n",
       "    <tr style=\"text-align: right;\">\n",
       "      <th></th>\n",
       "      <th>State</th>\n",
       "      <th>Participation</th>\n",
       "      <th>Evidence-Based Reading and Writing</th>\n",
       "      <th>Math</th>\n",
       "      <th>Total</th>\n",
       "    </tr>\n",
       "  </thead>\n",
       "  <tbody>\n",
       "    <tr>\n",
       "      <th>0</th>\n",
       "      <td>Alabama</td>\n",
       "      <td>5%</td>\n",
       "      <td>593</td>\n",
       "      <td>572</td>\n",
       "      <td>1165</td>\n",
       "    </tr>\n",
       "    <tr>\n",
       "      <th>1</th>\n",
       "      <td>Alaska</td>\n",
       "      <td>38%</td>\n",
       "      <td>547</td>\n",
       "      <td>533</td>\n",
       "      <td>1080</td>\n",
       "    </tr>\n",
       "    <tr>\n",
       "      <th>2</th>\n",
       "      <td>Arizona</td>\n",
       "      <td>30%</td>\n",
       "      <td>563</td>\n",
       "      <td>553</td>\n",
       "      <td>1116</td>\n",
       "    </tr>\n",
       "    <tr>\n",
       "      <th>3</th>\n",
       "      <td>Arkansas</td>\n",
       "      <td>3%</td>\n",
       "      <td>614</td>\n",
       "      <td>594</td>\n",
       "      <td>1208</td>\n",
       "    </tr>\n",
       "    <tr>\n",
       "      <th>4</th>\n",
       "      <td>California</td>\n",
       "      <td>53%</td>\n",
       "      <td>531</td>\n",
       "      <td>524</td>\n",
       "      <td>1055</td>\n",
       "    </tr>\n",
       "  </tbody>\n",
       "</table>\n",
       "</div>"
      ],
      "text/plain": [
       "        State Participation  Evidence-Based Reading and Writing  Math  Total\n",
       "0     Alabama            5%                                 593   572   1165\n",
       "1      Alaska           38%                                 547   533   1080\n",
       "2     Arizona           30%                                 563   553   1116\n",
       "3    Arkansas            3%                                 614   594   1208\n",
       "4  California           53%                                 531   524   1055"
      ]
     },
     "execution_count": 10,
     "metadata": {},
     "output_type": "execute_result"
    }
   ],
   "source": [
    "sat_2017_df.head()"
   ]
  },
  {
   "cell_type": "code",
   "execution_count": 11,
   "metadata": {},
   "outputs": [
    {
     "data": {
      "text/html": [
       "<div>\n",
       "<style scoped>\n",
       "    .dataframe tbody tr th:only-of-type {\n",
       "        vertical-align: middle;\n",
       "    }\n",
       "\n",
       "    .dataframe tbody tr th {\n",
       "        vertical-align: top;\n",
       "    }\n",
       "\n",
       "    .dataframe thead th {\n",
       "        text-align: right;\n",
       "    }\n",
       "</style>\n",
       "<table border=\"1\" class=\"dataframe\">\n",
       "  <thead>\n",
       "    <tr style=\"text-align: right;\">\n",
       "      <th></th>\n",
       "      <th>State</th>\n",
       "      <th>Participation</th>\n",
       "      <th>Evidence-Based Reading and Writing</th>\n",
       "      <th>Math</th>\n",
       "      <th>Total</th>\n",
       "    </tr>\n",
       "  </thead>\n",
       "  <tbody>\n",
       "    <tr>\n",
       "      <th>0</th>\n",
       "      <td>Alabama</td>\n",
       "      <td>6%</td>\n",
       "      <td>595</td>\n",
       "      <td>571</td>\n",
       "      <td>1166</td>\n",
       "    </tr>\n",
       "    <tr>\n",
       "      <th>1</th>\n",
       "      <td>Alaska</td>\n",
       "      <td>43%</td>\n",
       "      <td>562</td>\n",
       "      <td>544</td>\n",
       "      <td>1106</td>\n",
       "    </tr>\n",
       "    <tr>\n",
       "      <th>2</th>\n",
       "      <td>Arizona</td>\n",
       "      <td>29%</td>\n",
       "      <td>577</td>\n",
       "      <td>572</td>\n",
       "      <td>1149</td>\n",
       "    </tr>\n",
       "    <tr>\n",
       "      <th>3</th>\n",
       "      <td>Arkansas</td>\n",
       "      <td>5%</td>\n",
       "      <td>592</td>\n",
       "      <td>576</td>\n",
       "      <td>1169</td>\n",
       "    </tr>\n",
       "    <tr>\n",
       "      <th>4</th>\n",
       "      <td>California</td>\n",
       "      <td>60%</td>\n",
       "      <td>540</td>\n",
       "      <td>536</td>\n",
       "      <td>1076</td>\n",
       "    </tr>\n",
       "  </tbody>\n",
       "</table>\n",
       "</div>"
      ],
      "text/plain": [
       "        State Participation  Evidence-Based Reading and Writing  Math  Total\n",
       "0     Alabama            6%                                 595   571   1166\n",
       "1      Alaska           43%                                 562   544   1106\n",
       "2     Arizona           29%                                 577   572   1149\n",
       "3    Arkansas            5%                                 592   576   1169\n",
       "4  California           60%                                 540   536   1076"
      ]
     },
     "execution_count": 11,
     "metadata": {},
     "output_type": "execute_result"
    }
   ],
   "source": [
    "sat_2018_df.head()"
   ]
  },
  {
   "cell_type": "code",
   "execution_count": 12,
   "metadata": {},
   "outputs": [
    {
     "data": {
      "text/html": [
       "<div>\n",
       "<style scoped>\n",
       "    .dataframe tbody tr th:only-of-type {\n",
       "        vertical-align: middle;\n",
       "    }\n",
       "\n",
       "    .dataframe tbody tr th {\n",
       "        vertical-align: top;\n",
       "    }\n",
       "\n",
       "    .dataframe thead th {\n",
       "        text-align: right;\n",
       "    }\n",
       "</style>\n",
       "<table border=\"1\" class=\"dataframe\">\n",
       "  <thead>\n",
       "    <tr style=\"text-align: right;\">\n",
       "      <th></th>\n",
       "      <th>State</th>\n",
       "      <th>Participation Rate</th>\n",
       "      <th>EBRW</th>\n",
       "      <th>Math</th>\n",
       "      <th>Total</th>\n",
       "    </tr>\n",
       "  </thead>\n",
       "  <tbody>\n",
       "    <tr>\n",
       "      <th>0</th>\n",
       "      <td>Alabama</td>\n",
       "      <td>7%</td>\n",
       "      <td>583</td>\n",
       "      <td>560</td>\n",
       "      <td>1143</td>\n",
       "    </tr>\n",
       "    <tr>\n",
       "      <th>1</th>\n",
       "      <td>Alaska</td>\n",
       "      <td>41%</td>\n",
       "      <td>556</td>\n",
       "      <td>541</td>\n",
       "      <td>1097</td>\n",
       "    </tr>\n",
       "    <tr>\n",
       "      <th>2</th>\n",
       "      <td>Arizona</td>\n",
       "      <td>31%</td>\n",
       "      <td>569</td>\n",
       "      <td>565</td>\n",
       "      <td>1134</td>\n",
       "    </tr>\n",
       "    <tr>\n",
       "      <th>3</th>\n",
       "      <td>Arkansas</td>\n",
       "      <td>6%</td>\n",
       "      <td>582</td>\n",
       "      <td>559</td>\n",
       "      <td>1141</td>\n",
       "    </tr>\n",
       "    <tr>\n",
       "      <th>4</th>\n",
       "      <td>California</td>\n",
       "      <td>63%</td>\n",
       "      <td>534</td>\n",
       "      <td>531</td>\n",
       "      <td>1065</td>\n",
       "    </tr>\n",
       "  </tbody>\n",
       "</table>\n",
       "</div>"
      ],
      "text/plain": [
       "        State Participation Rate  EBRW  Math  Total\n",
       "0     Alabama                 7%   583   560   1143\n",
       "1      Alaska                41%   556   541   1097\n",
       "2     Arizona                31%   569   565   1134\n",
       "3    Arkansas                 6%   582   559   1141\n",
       "4  California                63%   534   531   1065"
      ]
     },
     "execution_count": 12,
     "metadata": {},
     "output_type": "execute_result"
    }
   ],
   "source": [
    "sat_2019_df.head()"
   ]
  },
  {
   "cell_type": "markdown",
   "metadata": {},
   "source": [
    "*the 3 years of SAT display the same info with different column names*"
   ]
  },
  {
   "cell_type": "code",
   "execution_count": 13,
   "metadata": {},
   "outputs": [
    {
     "data": {
      "text/html": [
       "<div>\n",
       "<style scoped>\n",
       "    .dataframe tbody tr th:only-of-type {\n",
       "        vertical-align: middle;\n",
       "    }\n",
       "\n",
       "    .dataframe tbody tr th {\n",
       "        vertical-align: top;\n",
       "    }\n",
       "\n",
       "    .dataframe thead th {\n",
       "        text-align: right;\n",
       "    }\n",
       "</style>\n",
       "<table border=\"1\" class=\"dataframe\">\n",
       "  <thead>\n",
       "    <tr style=\"text-align: right;\">\n",
       "      <th></th>\n",
       "      <th>IntendedCollegeMajor</th>\n",
       "      <th>TestTakers</th>\n",
       "      <th>Percent</th>\n",
       "      <th>Total</th>\n",
       "      <th>ReadingWriting</th>\n",
       "      <th>Math</th>\n",
       "    </tr>\n",
       "  </thead>\n",
       "  <tbody>\n",
       "    <tr>\n",
       "      <th>0</th>\n",
       "      <td>Agriculture, AgricultureOperations, and Relate...</td>\n",
       "      <td>24,913</td>\n",
       "      <td>1%</td>\n",
       "      <td>977</td>\n",
       "      <td>496</td>\n",
       "      <td>481</td>\n",
       "    </tr>\n",
       "    <tr>\n",
       "      <th>1</th>\n",
       "      <td>Architecture and Related Services</td>\n",
       "      <td>28,988</td>\n",
       "      <td>2%</td>\n",
       "      <td>1047</td>\n",
       "      <td>520</td>\n",
       "      <td>527</td>\n",
       "    </tr>\n",
       "    <tr>\n",
       "      <th>2</th>\n",
       "      <td>Area, Ethnic, Cultural, and Gender Studies</td>\n",
       "      <td>2,629</td>\n",
       "      <td>0%</td>\n",
       "      <td>1040</td>\n",
       "      <td>536</td>\n",
       "      <td>504</td>\n",
       "    </tr>\n",
       "    <tr>\n",
       "      <th>3</th>\n",
       "      <td>Biological and Biomedical Sciences</td>\n",
       "      <td>155,834</td>\n",
       "      <td>8%</td>\n",
       "      <td>1139</td>\n",
       "      <td>572</td>\n",
       "      <td>566</td>\n",
       "    </tr>\n",
       "    <tr>\n",
       "      <th>4</th>\n",
       "      <td>Business, Management, Marketing, and Related S...</td>\n",
       "      <td>221,523</td>\n",
       "      <td>12%</td>\n",
       "      <td>1072</td>\n",
       "      <td>534</td>\n",
       "      <td>537</td>\n",
       "    </tr>\n",
       "  </tbody>\n",
       "</table>\n",
       "</div>"
      ],
      "text/plain": [
       "                                IntendedCollegeMajor TestTakers Percent  \\\n",
       "0  Agriculture, AgricultureOperations, and Relate...     24,913      1%   \n",
       "1                  Architecture and Related Services     28,988      2%   \n",
       "2         Area, Ethnic, Cultural, and Gender Studies      2,629      0%   \n",
       "3                 Biological and Biomedical Sciences    155,834      8%   \n",
       "4  Business, Management, Marketing, and Related S...    221,523     12%   \n",
       "\n",
       "   Total  ReadingWriting  Math  \n",
       "0    977             496   481  \n",
       "1   1047             520   527  \n",
       "2   1040             536   504  \n",
       "3   1139             572   566  \n",
       "4   1072             534   537  "
      ]
     },
     "execution_count": 13,
     "metadata": {},
     "output_type": "execute_result"
    }
   ],
   "source": [
    "sat_2019_intended_major.head()"
   ]
  },
  {
   "cell_type": "markdown",
   "metadata": {},
   "source": [
    "#2 - check for missing values (we could also use .info()"
   ]
  },
  {
   "cell_type": "code",
   "execution_count": 14,
   "metadata": {},
   "outputs": [
    {
     "name": "stdout",
     "output_type": "stream",
     "text": [
      "State                                 0\n",
      "Participation                         0\n",
      "Evidence-Based Reading and Writing    0\n",
      "Math                                  0\n",
      "Total                                 0\n",
      "dtype: int64\n",
      "State                                 0\n",
      "Participation                         0\n",
      "Evidence-Based Reading and Writing    0\n",
      "Math                                  0\n",
      "Total                                 0\n",
      "dtype: int64\n",
      "State                 0\n",
      "Participation Rate    0\n",
      "EBRW                  0\n",
      "Math                  0\n",
      "Total                 0\n",
      "dtype: int64\n",
      "IntendedCollegeMajor    0\n",
      "TestTakers              0\n",
      "Percent                 0\n",
      "Total                   0\n",
      "ReadingWriting          0\n",
      "Math                    0\n",
      "dtype: int64\n"
     ]
    }
   ],
   "source": [
    "\n",
    "print(sat_2017_df.isna().sum()) \n",
    "print(sat_2018_df.isna().sum())\n",
    "print(sat_2019_df.isna().sum())\n",
    "print(sat_2019_intended_major.isna().sum())\n",
    "# NO MISSING VALUES"
   ]
  },
  {
   "cell_type": "markdown",
   "metadata": {},
   "source": [
    "#3. Check for any obvious issues with the observations (keep in mind the minimum & maximum possible values for each test/subtest)."
   ]
  },
  {
   "cell_type": "markdown",
   "metadata": {},
   "source": [
    "### Lets look at 2017"
   ]
  },
  {
   "cell_type": "code",
   "execution_count": 15,
   "metadata": {},
   "outputs": [
    {
     "name": "stdout",
     "output_type": "stream",
     "text": [
      "<class 'pandas.core.frame.DataFrame'>\n",
      "RangeIndex: 51 entries, 0 to 50\n",
      "Data columns (total 5 columns):\n",
      " #   Column                              Non-Null Count  Dtype \n",
      "---  ------                              --------------  ----- \n",
      " 0   State                               51 non-null     object\n",
      " 1   Participation                       51 non-null     object\n",
      " 2   Evidence-Based Reading and Writing  51 non-null     int64 \n",
      " 3   Math                                51 non-null     int64 \n",
      " 4   Total                               51 non-null     int64 \n",
      "dtypes: int64(3), object(2)\n",
      "memory usage: 2.1+ KB\n"
     ]
    }
   ],
   "source": [
    "sat_2018_df.info() # participation should be a number"
   ]
  },
  {
   "cell_type": "code",
   "execution_count": 16,
   "metadata": {},
   "outputs": [
    {
     "data": {
      "text/html": [
       "<div>\n",
       "<style scoped>\n",
       "    .dataframe tbody tr th:only-of-type {\n",
       "        vertical-align: middle;\n",
       "    }\n",
       "\n",
       "    .dataframe tbody tr th {\n",
       "        vertical-align: top;\n",
       "    }\n",
       "\n",
       "    .dataframe thead th {\n",
       "        text-align: right;\n",
       "    }\n",
       "</style>\n",
       "<table border=\"1\" class=\"dataframe\">\n",
       "  <thead>\n",
       "    <tr style=\"text-align: right;\">\n",
       "      <th></th>\n",
       "      <th>State</th>\n",
       "      <th>Participation</th>\n",
       "      <th>Evidence-Based Reading and Writing</th>\n",
       "      <th>Math</th>\n",
       "      <th>Total</th>\n",
       "    </tr>\n",
       "  </thead>\n",
       "  <tbody>\n",
       "    <tr>\n",
       "      <th>count</th>\n",
       "      <td>51</td>\n",
       "      <td>51</td>\n",
       "      <td>51.000000</td>\n",
       "      <td>51.000000</td>\n",
       "      <td>51.000000</td>\n",
       "    </tr>\n",
       "    <tr>\n",
       "      <th>unique</th>\n",
       "      <td>51</td>\n",
       "      <td>34</td>\n",
       "      <td>NaN</td>\n",
       "      <td>NaN</td>\n",
       "      <td>NaN</td>\n",
       "    </tr>\n",
       "    <tr>\n",
       "      <th>top</th>\n",
       "      <td>Alabama</td>\n",
       "      <td>3%</td>\n",
       "      <td>NaN</td>\n",
       "      <td>NaN</td>\n",
       "      <td>NaN</td>\n",
       "    </tr>\n",
       "    <tr>\n",
       "      <th>freq</th>\n",
       "      <td>1</td>\n",
       "      <td>8</td>\n",
       "      <td>NaN</td>\n",
       "      <td>NaN</td>\n",
       "      <td>NaN</td>\n",
       "    </tr>\n",
       "    <tr>\n",
       "      <th>mean</th>\n",
       "      <td>NaN</td>\n",
       "      <td>NaN</td>\n",
       "      <td>569.117647</td>\n",
       "      <td>547.627451</td>\n",
       "      <td>1126.098039</td>\n",
       "    </tr>\n",
       "    <tr>\n",
       "      <th>std</th>\n",
       "      <td>NaN</td>\n",
       "      <td>NaN</td>\n",
       "      <td>45.666901</td>\n",
       "      <td>84.909119</td>\n",
       "      <td>92.494812</td>\n",
       "    </tr>\n",
       "    <tr>\n",
       "      <th>min</th>\n",
       "      <td>NaN</td>\n",
       "      <td>NaN</td>\n",
       "      <td>482.000000</td>\n",
       "      <td>52.000000</td>\n",
       "      <td>950.000000</td>\n",
       "    </tr>\n",
       "    <tr>\n",
       "      <th>25%</th>\n",
       "      <td>NaN</td>\n",
       "      <td>NaN</td>\n",
       "      <td>533.500000</td>\n",
       "      <td>522.000000</td>\n",
       "      <td>1055.500000</td>\n",
       "    </tr>\n",
       "    <tr>\n",
       "      <th>50%</th>\n",
       "      <td>NaN</td>\n",
       "      <td>NaN</td>\n",
       "      <td>559.000000</td>\n",
       "      <td>548.000000</td>\n",
       "      <td>1107.000000</td>\n",
       "    </tr>\n",
       "    <tr>\n",
       "      <th>75%</th>\n",
       "      <td>NaN</td>\n",
       "      <td>NaN</td>\n",
       "      <td>613.000000</td>\n",
       "      <td>599.000000</td>\n",
       "      <td>1212.000000</td>\n",
       "    </tr>\n",
       "    <tr>\n",
       "      <th>max</th>\n",
       "      <td>NaN</td>\n",
       "      <td>NaN</td>\n",
       "      <td>644.000000</td>\n",
       "      <td>651.000000</td>\n",
       "      <td>1295.000000</td>\n",
       "    </tr>\n",
       "  </tbody>\n",
       "</table>\n",
       "</div>"
      ],
      "text/plain": [
       "          State Participation  Evidence-Based Reading and Writing        Math  \\\n",
       "count        51            51                           51.000000   51.000000   \n",
       "unique       51            34                                 NaN         NaN   \n",
       "top     Alabama            3%                                 NaN         NaN   \n",
       "freq          1             8                                 NaN         NaN   \n",
       "mean        NaN           NaN                          569.117647  547.627451   \n",
       "std         NaN           NaN                           45.666901   84.909119   \n",
       "min         NaN           NaN                          482.000000   52.000000   \n",
       "25%         NaN           NaN                          533.500000  522.000000   \n",
       "50%         NaN           NaN                          559.000000  548.000000   \n",
       "75%         NaN           NaN                          613.000000  599.000000   \n",
       "max         NaN           NaN                          644.000000  651.000000   \n",
       "\n",
       "              Total  \n",
       "count     51.000000  \n",
       "unique          NaN  \n",
       "top             NaN  \n",
       "freq            NaN  \n",
       "mean    1126.098039  \n",
       "std       92.494812  \n",
       "min      950.000000  \n",
       "25%     1055.500000  \n",
       "50%     1107.000000  \n",
       "75%     1212.000000  \n",
       "max     1295.000000  "
      ]
     },
     "execution_count": 16,
     "metadata": {},
     "output_type": "execute_result"
    }
   ],
   "source": [
    "sat_2017_df.describe(include='all') # 2017 dataset : math and EBRW min shd be min 200 and max 800. however sat_2017 has 1 outlier on math and score total"
   ]
  },
  {
   "cell_type": "markdown",
   "metadata": {},
   "source": [
    "### Let's look at 2018"
   ]
  },
  {
   "cell_type": "code",
   "execution_count": 17,
   "metadata": {},
   "outputs": [
    {
     "data": {
      "text/html": [
       "<div>\n",
       "<style scoped>\n",
       "    .dataframe tbody tr th:only-of-type {\n",
       "        vertical-align: middle;\n",
       "    }\n",
       "\n",
       "    .dataframe tbody tr th {\n",
       "        vertical-align: top;\n",
       "    }\n",
       "\n",
       "    .dataframe thead th {\n",
       "        text-align: right;\n",
       "    }\n",
       "</style>\n",
       "<table border=\"1\" class=\"dataframe\">\n",
       "  <thead>\n",
       "    <tr style=\"text-align: right;\">\n",
       "      <th></th>\n",
       "      <th>State</th>\n",
       "      <th>Participation</th>\n",
       "      <th>Evidence-Based Reading and Writing</th>\n",
       "      <th>Math</th>\n",
       "      <th>Total</th>\n",
       "    </tr>\n",
       "  </thead>\n",
       "  <tbody>\n",
       "    <tr>\n",
       "      <th>count</th>\n",
       "      <td>51</td>\n",
       "      <td>51</td>\n",
       "      <td>51.000000</td>\n",
       "      <td>51.000000</td>\n",
       "      <td>51.000000</td>\n",
       "    </tr>\n",
       "    <tr>\n",
       "      <th>unique</th>\n",
       "      <td>51</td>\n",
       "      <td>33</td>\n",
       "      <td>NaN</td>\n",
       "      <td>NaN</td>\n",
       "      <td>NaN</td>\n",
       "    </tr>\n",
       "    <tr>\n",
       "      <th>top</th>\n",
       "      <td>Alabama</td>\n",
       "      <td>4%</td>\n",
       "      <td>NaN</td>\n",
       "      <td>NaN</td>\n",
       "      <td>NaN</td>\n",
       "    </tr>\n",
       "    <tr>\n",
       "      <th>freq</th>\n",
       "      <td>1</td>\n",
       "      <td>6</td>\n",
       "      <td>NaN</td>\n",
       "      <td>NaN</td>\n",
       "      <td>NaN</td>\n",
       "    </tr>\n",
       "    <tr>\n",
       "      <th>mean</th>\n",
       "      <td>NaN</td>\n",
       "      <td>NaN</td>\n",
       "      <td>563.686275</td>\n",
       "      <td>556.235294</td>\n",
       "      <td>1120.019608</td>\n",
       "    </tr>\n",
       "    <tr>\n",
       "      <th>std</th>\n",
       "      <td>NaN</td>\n",
       "      <td>NaN</td>\n",
       "      <td>47.502627</td>\n",
       "      <td>47.772623</td>\n",
       "      <td>94.155083</td>\n",
       "    </tr>\n",
       "    <tr>\n",
       "      <th>min</th>\n",
       "      <td>NaN</td>\n",
       "      <td>NaN</td>\n",
       "      <td>480.000000</td>\n",
       "      <td>480.000000</td>\n",
       "      <td>977.000000</td>\n",
       "    </tr>\n",
       "    <tr>\n",
       "      <th>25%</th>\n",
       "      <td>NaN</td>\n",
       "      <td>NaN</td>\n",
       "      <td>534.500000</td>\n",
       "      <td>522.500000</td>\n",
       "      <td>1057.500000</td>\n",
       "    </tr>\n",
       "    <tr>\n",
       "      <th>50%</th>\n",
       "      <td>NaN</td>\n",
       "      <td>NaN</td>\n",
       "      <td>552.000000</td>\n",
       "      <td>544.000000</td>\n",
       "      <td>1098.000000</td>\n",
       "    </tr>\n",
       "    <tr>\n",
       "      <th>75%</th>\n",
       "      <td>NaN</td>\n",
       "      <td>NaN</td>\n",
       "      <td>610.500000</td>\n",
       "      <td>593.500000</td>\n",
       "      <td>1204.000000</td>\n",
       "    </tr>\n",
       "    <tr>\n",
       "      <th>max</th>\n",
       "      <td>NaN</td>\n",
       "      <td>NaN</td>\n",
       "      <td>643.000000</td>\n",
       "      <td>655.000000</td>\n",
       "      <td>1298.000000</td>\n",
       "    </tr>\n",
       "  </tbody>\n",
       "</table>\n",
       "</div>"
      ],
      "text/plain": [
       "          State Participation  Evidence-Based Reading and Writing        Math  \\\n",
       "count        51            51                           51.000000   51.000000   \n",
       "unique       51            33                                 NaN         NaN   \n",
       "top     Alabama            4%                                 NaN         NaN   \n",
       "freq          1             6                                 NaN         NaN   \n",
       "mean        NaN           NaN                          563.686275  556.235294   \n",
       "std         NaN           NaN                           47.502627   47.772623   \n",
       "min         NaN           NaN                          480.000000  480.000000   \n",
       "25%         NaN           NaN                          534.500000  522.500000   \n",
       "50%         NaN           NaN                          552.000000  544.000000   \n",
       "75%         NaN           NaN                          610.500000  593.500000   \n",
       "max         NaN           NaN                          643.000000  655.000000   \n",
       "\n",
       "              Total  \n",
       "count     51.000000  \n",
       "unique          NaN  \n",
       "top             NaN  \n",
       "freq            NaN  \n",
       "mean    1120.019608  \n",
       "std       94.155083  \n",
       "min      977.000000  \n",
       "25%     1057.500000  \n",
       "50%     1098.000000  \n",
       "75%     1204.000000  \n",
       "max     1298.000000  "
      ]
     },
     "execution_count": 17,
     "metadata": {},
     "output_type": "execute_result"
    }
   ],
   "source": [
    "sat_2018_df.describe(include='all') #all metrics are reasonable, within range"
   ]
  },
  {
   "cell_type": "code",
   "execution_count": 18,
   "metadata": {},
   "outputs": [
    {
     "name": "stdout",
     "output_type": "stream",
     "text": [
      "<class 'pandas.core.frame.DataFrame'>\n",
      "RangeIndex: 51 entries, 0 to 50\n",
      "Data columns (total 5 columns):\n",
      " #   Column                              Non-Null Count  Dtype \n",
      "---  ------                              --------------  ----- \n",
      " 0   State                               51 non-null     object\n",
      " 1   Participation                       51 non-null     object\n",
      " 2   Evidence-Based Reading and Writing  51 non-null     int64 \n",
      " 3   Math                                51 non-null     int64 \n",
      " 4   Total                               51 non-null     int64 \n",
      "dtypes: int64(3), object(2)\n",
      "memory usage: 2.1+ KB\n"
     ]
    }
   ],
   "source": [
    "sat_2018_df.info() # participation should be a number"
   ]
  },
  {
   "cell_type": "code",
   "execution_count": 19,
   "metadata": {},
   "outputs": [
    {
     "data": {
      "text/plain": [
       "array(['6%', '43%', '29%', '5%', '60%', '100%', '92%', '56%', '70%',\n",
       "       '99%', '63%', '3%', '4%', '76%', '80%', '10%', '23%', '96%', '82%',\n",
       "       '16%', '79%', '52%', '2%', '8%', '18%', '48%', '97%', '55%', '66%',\n",
       "       '64%', '68%', '69%', '28%'], dtype=object)"
      ]
     },
     "execution_count": 19,
     "metadata": {},
     "output_type": "execute_result"
    }
   ],
   "source": [
    "sat_2018_df['Participation'].unique() # Column transformation for Participation field"
   ]
  },
  {
   "cell_type": "markdown",
   "metadata": {},
   "source": [
    "### Let's look at 2019"
   ]
  },
  {
   "cell_type": "code",
   "execution_count": 20,
   "metadata": {},
   "outputs": [
    {
     "data": {
      "text/html": [
       "<div>\n",
       "<style scoped>\n",
       "    .dataframe tbody tr th:only-of-type {\n",
       "        vertical-align: middle;\n",
       "    }\n",
       "\n",
       "    .dataframe tbody tr th {\n",
       "        vertical-align: top;\n",
       "    }\n",
       "\n",
       "    .dataframe thead th {\n",
       "        text-align: right;\n",
       "    }\n",
       "</style>\n",
       "<table border=\"1\" class=\"dataframe\">\n",
       "  <thead>\n",
       "    <tr style=\"text-align: right;\">\n",
       "      <th></th>\n",
       "      <th>State</th>\n",
       "      <th>Participation Rate</th>\n",
       "      <th>EBRW</th>\n",
       "      <th>Math</th>\n",
       "      <th>Total</th>\n",
       "    </tr>\n",
       "  </thead>\n",
       "  <tbody>\n",
       "    <tr>\n",
       "      <th>count</th>\n",
       "      <td>53</td>\n",
       "      <td>53</td>\n",
       "      <td>53.000000</td>\n",
       "      <td>53.000000</td>\n",
       "      <td>53.000000</td>\n",
       "    </tr>\n",
       "    <tr>\n",
       "      <th>unique</th>\n",
       "      <td>53</td>\n",
       "      <td>28</td>\n",
       "      <td>NaN</td>\n",
       "      <td>NaN</td>\n",
       "      <td>NaN</td>\n",
       "    </tr>\n",
       "    <tr>\n",
       "      <th>top</th>\n",
       "      <td>Alabama</td>\n",
       "      <td>100%</td>\n",
       "      <td>NaN</td>\n",
       "      <td>NaN</td>\n",
       "      <td>NaN</td>\n",
       "    </tr>\n",
       "    <tr>\n",
       "      <th>freq</th>\n",
       "      <td>1</td>\n",
       "      <td>8</td>\n",
       "      <td>NaN</td>\n",
       "      <td>NaN</td>\n",
       "      <td>NaN</td>\n",
       "    </tr>\n",
       "    <tr>\n",
       "      <th>mean</th>\n",
       "      <td>NaN</td>\n",
       "      <td>NaN</td>\n",
       "      <td>558.000000</td>\n",
       "      <td>548.471698</td>\n",
       "      <td>1106.528302</td>\n",
       "    </tr>\n",
       "    <tr>\n",
       "      <th>std</th>\n",
       "      <td>NaN</td>\n",
       "      <td>NaN</td>\n",
       "      <td>47.554422</td>\n",
       "      <td>53.785044</td>\n",
       "      <td>100.994784</td>\n",
       "    </tr>\n",
       "    <tr>\n",
       "      <th>min</th>\n",
       "      <td>NaN</td>\n",
       "      <td>NaN</td>\n",
       "      <td>483.000000</td>\n",
       "      <td>445.000000</td>\n",
       "      <td>935.000000</td>\n",
       "    </tr>\n",
       "    <tr>\n",
       "      <th>25%</th>\n",
       "      <td>NaN</td>\n",
       "      <td>NaN</td>\n",
       "      <td>518.000000</td>\n",
       "      <td>506.000000</td>\n",
       "      <td>1024.000000</td>\n",
       "    </tr>\n",
       "    <tr>\n",
       "      <th>50%</th>\n",
       "      <td>NaN</td>\n",
       "      <td>NaN</td>\n",
       "      <td>550.000000</td>\n",
       "      <td>545.000000</td>\n",
       "      <td>1097.000000</td>\n",
       "    </tr>\n",
       "    <tr>\n",
       "      <th>75%</th>\n",
       "      <td>NaN</td>\n",
       "      <td>NaN</td>\n",
       "      <td>610.000000</td>\n",
       "      <td>596.000000</td>\n",
       "      <td>1200.000000</td>\n",
       "    </tr>\n",
       "    <tr>\n",
       "      <th>max</th>\n",
       "      <td>NaN</td>\n",
       "      <td>NaN</td>\n",
       "      <td>636.000000</td>\n",
       "      <td>648.000000</td>\n",
       "      <td>1284.000000</td>\n",
       "    </tr>\n",
       "  </tbody>\n",
       "</table>\n",
       "</div>"
      ],
      "text/plain": [
       "          State Participation Rate        EBRW        Math        Total\n",
       "count        53                 53   53.000000   53.000000    53.000000\n",
       "unique       53                 28         NaN         NaN          NaN\n",
       "top     Alabama               100%         NaN         NaN          NaN\n",
       "freq          1                  8         NaN         NaN          NaN\n",
       "mean        NaN                NaN  558.000000  548.471698  1106.528302\n",
       "std         NaN                NaN   47.554422   53.785044   100.994784\n",
       "min         NaN                NaN  483.000000  445.000000   935.000000\n",
       "25%         NaN                NaN  518.000000  506.000000  1024.000000\n",
       "50%         NaN                NaN  550.000000  545.000000  1097.000000\n",
       "75%         NaN                NaN  610.000000  596.000000  1200.000000\n",
       "max         NaN                NaN  636.000000  648.000000  1284.000000"
      ]
     },
     "execution_count": 20,
     "metadata": {},
     "output_type": "execute_result"
    }
   ],
   "source": [
    "sat_2019_df.describe(include='all') # jumped to 53 states | #all metrics are reasonable, within range"
   ]
  },
  {
   "cell_type": "code",
   "execution_count": 21,
   "metadata": {},
   "outputs": [
    {
     "name": "stdout",
     "output_type": "stream",
     "text": [
      "<class 'pandas.core.frame.DataFrame'>\n",
      "RangeIndex: 53 entries, 0 to 52\n",
      "Data columns (total 5 columns):\n",
      " #   Column              Non-Null Count  Dtype \n",
      "---  ------              --------------  ----- \n",
      " 0   State               53 non-null     object\n",
      " 1   Participation Rate  53 non-null     object\n",
      " 2   EBRW                53 non-null     int64 \n",
      " 3   Math                53 non-null     int64 \n",
      " 4   Total               53 non-null     int64 \n",
      "dtypes: int64(3), object(2)\n",
      "memory usage: 2.2+ KB\n"
     ]
    }
   ],
   "source": [
    "sat_2019_df.info() # participation should be a number"
   ]
  },
  {
   "cell_type": "code",
   "execution_count": 22,
   "metadata": {},
   "outputs": [
    {
     "data": {
      "text/plain": [
       "array(['7%', '41%', '31%', '6%', '63%', '100%', '94%', '71%', '54%',\n",
       "       '66%', '3%', '4%', '5%', '99%', '82%', '81%', '9%', '20%', '95%',\n",
       "       '18%', '79%', '51%', '2%', '19%', '22%', '70%', '—', '68%'],\n",
       "      dtype=object)"
      ]
     },
     "execution_count": 22,
     "metadata": {},
     "output_type": "execute_result"
    }
   ],
   "source": [
    "sat_2019_df['Participation Rate'].unique() # We have a problem here with a \"-\" in a numerical field"
   ]
  },
  {
   "cell_type": "markdown",
   "metadata": {},
   "source": [
    "### Let's look at by college major"
   ]
  },
  {
   "cell_type": "code",
   "execution_count": 23,
   "metadata": {},
   "outputs": [
    {
     "data": {
      "text/html": [
       "<div>\n",
       "<style scoped>\n",
       "    .dataframe tbody tr th:only-of-type {\n",
       "        vertical-align: middle;\n",
       "    }\n",
       "\n",
       "    .dataframe tbody tr th {\n",
       "        vertical-align: top;\n",
       "    }\n",
       "\n",
       "    .dataframe thead th {\n",
       "        text-align: right;\n",
       "    }\n",
       "</style>\n",
       "<table border=\"1\" class=\"dataframe\">\n",
       "  <thead>\n",
       "    <tr style=\"text-align: right;\">\n",
       "      <th></th>\n",
       "      <th>IntendedCollegeMajor</th>\n",
       "      <th>TestTakers</th>\n",
       "      <th>Percent</th>\n",
       "      <th>Total</th>\n",
       "      <th>ReadingWriting</th>\n",
       "      <th>Math</th>\n",
       "    </tr>\n",
       "  </thead>\n",
       "  <tbody>\n",
       "    <tr>\n",
       "      <th>count</th>\n",
       "      <td>38</td>\n",
       "      <td>38</td>\n",
       "      <td>38</td>\n",
       "      <td>38.000000</td>\n",
       "      <td>38.000000</td>\n",
       "      <td>38.000000</td>\n",
       "    </tr>\n",
       "    <tr>\n",
       "      <th>unique</th>\n",
       "      <td>38</td>\n",
       "      <td>38</td>\n",
       "      <td>9</td>\n",
       "      <td>NaN</td>\n",
       "      <td>NaN</td>\n",
       "      <td>NaN</td>\n",
       "    </tr>\n",
       "    <tr>\n",
       "      <th>top</th>\n",
       "      <td>Agriculture, AgricultureOperations, and Relate...</td>\n",
       "      <td>24,913</td>\n",
       "      <td>0%</td>\n",
       "      <td>NaN</td>\n",
       "      <td>NaN</td>\n",
       "      <td>NaN</td>\n",
       "    </tr>\n",
       "    <tr>\n",
       "      <th>freq</th>\n",
       "      <td>1</td>\n",
       "      <td>1</td>\n",
       "      <td>14</td>\n",
       "      <td>NaN</td>\n",
       "      <td>NaN</td>\n",
       "      <td>NaN</td>\n",
       "    </tr>\n",
       "    <tr>\n",
       "      <th>mean</th>\n",
       "      <td>NaN</td>\n",
       "      <td>NaN</td>\n",
       "      <td>NaN</td>\n",
       "      <td>1058.500000</td>\n",
       "      <td>535.500000</td>\n",
       "      <td>523.000000</td>\n",
       "    </tr>\n",
       "    <tr>\n",
       "      <th>std</th>\n",
       "      <td>NaN</td>\n",
       "      <td>NaN</td>\n",
       "      <td>NaN</td>\n",
       "      <td>82.445969</td>\n",
       "      <td>41.362439</td>\n",
       "      <td>43.386385</td>\n",
       "    </tr>\n",
       "    <tr>\n",
       "      <th>min</th>\n",
       "      <td>NaN</td>\n",
       "      <td>NaN</td>\n",
       "      <td>NaN</td>\n",
       "      <td>916.000000</td>\n",
       "      <td>458.000000</td>\n",
       "      <td>456.000000</td>\n",
       "    </tr>\n",
       "    <tr>\n",
       "      <th>25%</th>\n",
       "      <td>NaN</td>\n",
       "      <td>NaN</td>\n",
       "      <td>NaN</td>\n",
       "      <td>988.250000</td>\n",
       "      <td>501.250000</td>\n",
       "      <td>486.500000</td>\n",
       "    </tr>\n",
       "    <tr>\n",
       "      <th>50%</th>\n",
       "      <td>NaN</td>\n",
       "      <td>NaN</td>\n",
       "      <td>NaN</td>\n",
       "      <td>1066.500000</td>\n",
       "      <td>537.000000</td>\n",
       "      <td>527.000000</td>\n",
       "    </tr>\n",
       "    <tr>\n",
       "      <th>75%</th>\n",
       "      <td>NaN</td>\n",
       "      <td>NaN</td>\n",
       "      <td>NaN</td>\n",
       "      <td>1115.500000</td>\n",
       "      <td>569.750000</td>\n",
       "      <td>542.250000</td>\n",
       "    </tr>\n",
       "    <tr>\n",
       "      <th>max</th>\n",
       "      <td>NaN</td>\n",
       "      <td>NaN</td>\n",
       "      <td>NaN</td>\n",
       "      <td>1242.000000</td>\n",
       "      <td>597.000000</td>\n",
       "      <td>646.000000</td>\n",
       "    </tr>\n",
       "  </tbody>\n",
       "</table>\n",
       "</div>"
      ],
      "text/plain": [
       "                                     IntendedCollegeMajor TestTakers Percent  \\\n",
       "count                                                  38         38      38   \n",
       "unique                                                 38         38       9   \n",
       "top     Agriculture, AgricultureOperations, and Relate...     24,913      0%   \n",
       "freq                                                    1          1      14   \n",
       "mean                                                  NaN        NaN     NaN   \n",
       "std                                                   NaN        NaN     NaN   \n",
       "min                                                   NaN        NaN     NaN   \n",
       "25%                                                   NaN        NaN     NaN   \n",
       "50%                                                   NaN        NaN     NaN   \n",
       "75%                                                   NaN        NaN     NaN   \n",
       "max                                                   NaN        NaN     NaN   \n",
       "\n",
       "              Total  ReadingWriting        Math  \n",
       "count     38.000000       38.000000   38.000000  \n",
       "unique          NaN             NaN         NaN  \n",
       "top             NaN             NaN         NaN  \n",
       "freq            NaN             NaN         NaN  \n",
       "mean    1058.500000      535.500000  523.000000  \n",
       "std       82.445969       41.362439   43.386385  \n",
       "min      916.000000      458.000000  456.000000  \n",
       "25%      988.250000      501.250000  486.500000  \n",
       "50%     1066.500000      537.000000  527.000000  \n",
       "75%     1115.500000      569.750000  542.250000  \n",
       "max     1242.000000      597.000000  646.000000  "
      ]
     },
     "execution_count": 23,
     "metadata": {},
     "output_type": "execute_result"
    }
   ],
   "source": [
    "sat_2019_intended_major.describe(include='all') # all metrics are reasonable, within range. 9 unique percent most likely due to 0% rounded, that we find multiple times"
   ]
  },
  {
   "cell_type": "code",
   "execution_count": 24,
   "metadata": {},
   "outputs": [
    {
     "name": "stdout",
     "output_type": "stream",
     "text": [
      "<class 'pandas.core.frame.DataFrame'>\n",
      "RangeIndex: 38 entries, 0 to 37\n",
      "Data columns (total 6 columns):\n",
      " #   Column                Non-Null Count  Dtype \n",
      "---  ------                --------------  ----- \n",
      " 0   IntendedCollegeMajor  38 non-null     object\n",
      " 1   TestTakers            38 non-null     object\n",
      " 2   Percent               38 non-null     object\n",
      " 3   Total                 38 non-null     int64 \n",
      " 4   ReadingWriting        38 non-null     int64 \n",
      " 5   Math                  38 non-null     int64 \n",
      "dtypes: int64(3), object(3)\n",
      "memory usage: 1.9+ KB\n"
     ]
    }
   ],
   "source": [
    "sat_2019_intended_major.info() # percent should be a number"
   ]
  },
  {
   "cell_type": "code",
   "execution_count": 25,
   "metadata": {},
   "outputs": [
    {
     "data": {
      "text/plain": [
       "array(['1%', '2%', '0%', '8%', '12%', '4%', '11%', '18%', '7%'],\n",
       "      dtype=object)"
      ]
     },
     "execution_count": 25,
     "metadata": {},
     "output_type": "execute_result"
    }
   ],
   "source": [
    "sat_2019_intended_major['Percent'].unique() # Ccolumn transformation is waiting"
   ]
  },
  {
   "cell_type": "markdown",
   "metadata": {},
   "source": [
    "#4. Fix any errors you identified in steps 2-3."
   ]
  },
  {
   "cell_type": "markdown",
   "metadata": {},
   "source": [
    "### Lets start with 2017"
   ]
  },
  {
   "cell_type": "code",
   "execution_count": 26,
   "metadata": {},
   "outputs": [
    {
     "data": {
      "text/plain": [
       "20     52\n",
       "8     468\n",
       "7     492\n",
       "12    493\n",
       "22    495\n",
       "Name: Math, dtype: int64"
      ]
     },
     "execution_count": 26,
     "metadata": {},
     "output_type": "execute_result"
    }
   ],
   "source": [
    "#Lets focus on sat_2017_df.describe\n",
    "sat_2017_df['Math'].sort_values(ascending=True).head(5) # checking where is the outlier, index 20. \n",
    "#we can see there is only 1 outlier as the values are sorted"
   ]
  },
  {
   "cell_type": "code",
   "execution_count": 27,
   "metadata": {},
   "outputs": [
    {
     "name": "stdout",
     "output_type": "stream",
     "text": [
      "       State Participation  Evidence-Based Reading and Writing  Math  Total\n",
      "20  Maryland           69%                                 536    52   1060\n"
     ]
    }
   ],
   "source": [
    "print(sat_2017_df.loc[sat_2017_df['Math'] == 52, :].head()) # we can derive the actual value by taking total - EBRW and replace it inplace"
   ]
  },
  {
   "cell_type": "code",
   "execution_count": 28,
   "metadata": {},
   "outputs": [
    {
     "data": {
      "text/plain": [
       "52"
      ]
     },
     "execution_count": 28,
     "metadata": {},
     "output_type": "execute_result"
    }
   ],
   "source": [
    "sat_2017_df['Math'][20] # checking that we are targeting the correct value to replace"
   ]
  },
  {
   "cell_type": "code",
   "execution_count": 29,
   "metadata": {},
   "outputs": [],
   "source": [
    "sat_2017_df.loc[20,['Math']] = 524 # replacing with .loc function, 524 = 1060(total_score) - 536 (EBWR score) = math score = 524"
   ]
  },
  {
   "cell_type": "code",
   "execution_count": 30,
   "metadata": {},
   "outputs": [
    {
     "data": {
      "text/plain": [
       "State                                 Maryland\n",
       "Participation                              69%\n",
       "Evidence-Based Reading and Writing         536\n",
       "Math                                       524\n",
       "Total                                     1060\n",
       "Name: 20, dtype: object"
      ]
     },
     "execution_count": 30,
     "metadata": {},
     "output_type": "execute_result"
    }
   ],
   "source": [
    "sat_2017_df.loc[20] # checking absolute result and in table "
   ]
  },
  {
   "cell_type": "markdown",
   "metadata": {},
   "source": [
    "### continue with 2019"
   ]
  },
  {
   "cell_type": "code",
   "execution_count": 31,
   "metadata": {},
   "outputs": [
    {
     "name": "stdout",
     "output_type": "stream",
     "text": [
      "             State Participation Rate  EBRW  Math  Total\n",
      "39     Puerto Rico                  —   483   462    944\n",
      "47  Virgin Islands                  —   490   445    935\n"
     ]
    }
   ],
   "source": [
    "#Let's replace \"-\" in sat_2019_df by Nan values\n",
    "print(sat_2019_df.loc[sat_2019_df['Participation Rate'] == \"—\" , :].head())\n"
   ]
  },
  {
   "cell_type": "code",
   "execution_count": 32,
   "metadata": {},
   "outputs": [],
   "source": [
    "sat_2019_df['Participation Rate'] = sat_2019_df['Participation Rate'].replace('—','0%') # trying out a different technique to replace values"
   ]
  },
  {
   "cell_type": "code",
   "execution_count": 33,
   "metadata": {},
   "outputs": [
    {
     "data": {
      "text/plain": [
       "array(['7%', '41%', '31%', '6%', '63%', '100%', '94%', '71%', '54%',\n",
       "       '66%', '3%', '4%', '5%', '99%', '82%', '81%', '9%', '20%', '95%',\n",
       "       '18%', '79%', '51%', '2%', '19%', '22%', '70%', '0%', '68%'],\n",
       "      dtype=object)"
      ]
     },
     "execution_count": 33,
     "metadata": {},
     "output_type": "execute_result"
    }
   ],
   "source": [
    "sat_2019_df['Participation Rate'].unique() # testing"
   ]
  },
  {
   "cell_type": "markdown",
   "metadata": {},
   "source": [
    "#5. Display the data types of each feature."
   ]
  },
  {
   "cell_type": "code",
   "execution_count": 34,
   "metadata": {},
   "outputs": [
    {
     "name": "stdout",
     "output_type": "stream",
     "text": [
      "<class 'pandas.core.frame.DataFrame'>\n",
      "RangeIndex: 51 entries, 0 to 50\n",
      "Data columns (total 5 columns):\n",
      " #   Column                              Non-Null Count  Dtype \n",
      "---  ------                              --------------  ----- \n",
      " 0   State                               51 non-null     object\n",
      " 1   Participation                       51 non-null     object\n",
      " 2   Evidence-Based Reading and Writing  51 non-null     int64 \n",
      " 3   Math                                51 non-null     int64 \n",
      " 4   Total                               51 non-null     int64 \n",
      "dtypes: int64(3), object(2)\n",
      "memory usage: 2.1+ KB\n",
      "<class 'pandas.core.frame.DataFrame'>\n",
      "RangeIndex: 51 entries, 0 to 50\n",
      "Data columns (total 5 columns):\n",
      " #   Column                              Non-Null Count  Dtype \n",
      "---  ------                              --------------  ----- \n",
      " 0   State                               51 non-null     object\n",
      " 1   Participation                       51 non-null     object\n",
      " 2   Evidence-Based Reading and Writing  51 non-null     int64 \n",
      " 3   Math                                51 non-null     int64 \n",
      " 4   Total                               51 non-null     int64 \n",
      "dtypes: int64(3), object(2)\n",
      "memory usage: 2.1+ KB\n"
     ]
    }
   ],
   "source": [
    "sat_2017_df.info() # participation shd be %  instead of object, we will fix this in step 6\n",
    "sat_2018_df.info() # participation shd be %  instead of object, we will fix this in step 6"
   ]
  },
  {
   "cell_type": "code",
   "execution_count": 35,
   "metadata": {},
   "outputs": [
    {
     "name": "stdout",
     "output_type": "stream",
     "text": [
      "<class 'pandas.core.frame.DataFrame'>\n",
      "RangeIndex: 53 entries, 0 to 52\n",
      "Data columns (total 5 columns):\n",
      " #   Column              Non-Null Count  Dtype \n",
      "---  ------              --------------  ----- \n",
      " 0   State               53 non-null     object\n",
      " 1   Participation Rate  53 non-null     object\n",
      " 2   EBRW                53 non-null     int64 \n",
      " 3   Math                53 non-null     int64 \n",
      " 4   Total               53 non-null     int64 \n",
      "dtypes: int64(3), object(2)\n",
      "memory usage: 2.2+ KB\n"
     ]
    }
   ],
   "source": [
    "sat_2019_df.info() # participation shd be % instead of object - we will fix this in step6"
   ]
  },
  {
   "cell_type": "code",
   "execution_count": 36,
   "metadata": {},
   "outputs": [
    {
     "name": "stdout",
     "output_type": "stream",
     "text": [
      "<class 'pandas.core.frame.DataFrame'>\n",
      "RangeIndex: 38 entries, 0 to 37\n",
      "Data columns (total 6 columns):\n",
      " #   Column                Non-Null Count  Dtype \n",
      "---  ------                --------------  ----- \n",
      " 0   IntendedCollegeMajor  38 non-null     object\n",
      " 1   TestTakers            38 non-null     object\n",
      " 2   Percent               38 non-null     object\n",
      " 3   Total                 38 non-null     int64 \n",
      " 4   ReadingWriting        38 non-null     int64 \n",
      " 5   Math                  38 non-null     int64 \n",
      "dtypes: int64(3), object(3)\n",
      "memory usage: 1.9+ KB\n"
     ]
    }
   ],
   "source": [
    "sat_2019_intended_major.info() # percent shd be % instead of object - we will fix in step 6"
   ]
  },
  {
   "cell_type": "markdown",
   "metadata": {},
   "source": [
    "#6. Fix any incorrect data types found in step 5.\n",
    "    #Fix any individual values preventing other columns from being the appropriate type.\n",
    "    # If your dataset has a column of percents (ex. '50%', '30.5%', etc.), use the function you wrote in Part 1 (coding challenges, number 3) to convert this to floats! \n",
    "    # *Hint*: use `.map()` or `.apply()`.\n",
    "    "
   ]
  },
  {
   "cell_type": "code",
   "execution_count": 37,
   "metadata": {},
   "outputs": [],
   "source": [
    "sat_2017_df[\"part_per\"] = sat_2017_df['Participation'].apply(str_to_float) # create a new column to store tranformed values\n",
    "sat_2018_df[\"part_per\"] = sat_2018_df['Participation'].apply(str_to_float) # create a new column to store tranformed values\n",
    "sat_2019_df[\"part_per\"] = sat_2019_df['Participation Rate'].apply(str_to_float) # create a new column to store tranformed values\n",
    "sat_2019_intended_major['part_per']=sat_2019_intended_major['Percent'].apply(str_to_float) # create a new column to store tranformed values"
   ]
  },
  {
   "cell_type": "code",
   "execution_count": 38,
   "metadata": {},
   "outputs": [
    {
     "name": "stdout",
     "output_type": "stream",
     "text": [
      "<class 'pandas.core.frame.DataFrame'>\n",
      "RangeIndex: 53 entries, 0 to 52\n",
      "Data columns (total 6 columns):\n",
      " #   Column              Non-Null Count  Dtype  \n",
      "---  ------              --------------  -----  \n",
      " 0   State               53 non-null     object \n",
      " 1   Participation Rate  53 non-null     object \n",
      " 2   EBRW                53 non-null     int64  \n",
      " 3   Math                53 non-null     int64  \n",
      " 4   Total               53 non-null     int64  \n",
      " 5   part_per            53 non-null     float64\n",
      "dtypes: float64(1), int64(3), object(2)\n",
      "memory usage: 2.6+ KB\n"
     ]
    }
   ],
   "source": [
    "sat_2019_df.info()"
   ]
  },
  {
   "cell_type": "code",
   "execution_count": 39,
   "metadata": {},
   "outputs": [
    {
     "data": {
      "text/html": [
       "<div>\n",
       "<style scoped>\n",
       "    .dataframe tbody tr th:only-of-type {\n",
       "        vertical-align: middle;\n",
       "    }\n",
       "\n",
       "    .dataframe tbody tr th {\n",
       "        vertical-align: top;\n",
       "    }\n",
       "\n",
       "    .dataframe thead th {\n",
       "        text-align: right;\n",
       "    }\n",
       "</style>\n",
       "<table border=\"1\" class=\"dataframe\">\n",
       "  <thead>\n",
       "    <tr style=\"text-align: right;\">\n",
       "      <th></th>\n",
       "      <th>IntendedCollegeMajor</th>\n",
       "      <th>TestTakers</th>\n",
       "      <th>Percent</th>\n",
       "      <th>Total</th>\n",
       "      <th>ReadingWriting</th>\n",
       "      <th>Math</th>\n",
       "      <th>part_per</th>\n",
       "    </tr>\n",
       "  </thead>\n",
       "  <tbody>\n",
       "    <tr>\n",
       "      <th>0</th>\n",
       "      <td>Agriculture, AgricultureOperations, and Relate...</td>\n",
       "      <td>24,913</td>\n",
       "      <td>1%</td>\n",
       "      <td>977</td>\n",
       "      <td>496</td>\n",
       "      <td>481</td>\n",
       "      <td>0.01</td>\n",
       "    </tr>\n",
       "    <tr>\n",
       "      <th>1</th>\n",
       "      <td>Architecture and Related Services</td>\n",
       "      <td>28,988</td>\n",
       "      <td>2%</td>\n",
       "      <td>1047</td>\n",
       "      <td>520</td>\n",
       "      <td>527</td>\n",
       "      <td>0.02</td>\n",
       "    </tr>\n",
       "    <tr>\n",
       "      <th>2</th>\n",
       "      <td>Area, Ethnic, Cultural, and Gender Studies</td>\n",
       "      <td>2,629</td>\n",
       "      <td>0%</td>\n",
       "      <td>1040</td>\n",
       "      <td>536</td>\n",
       "      <td>504</td>\n",
       "      <td>0.00</td>\n",
       "    </tr>\n",
       "    <tr>\n",
       "      <th>3</th>\n",
       "      <td>Biological and Biomedical Sciences</td>\n",
       "      <td>155,834</td>\n",
       "      <td>8%</td>\n",
       "      <td>1139</td>\n",
       "      <td>572</td>\n",
       "      <td>566</td>\n",
       "      <td>0.08</td>\n",
       "    </tr>\n",
       "    <tr>\n",
       "      <th>4</th>\n",
       "      <td>Business, Management, Marketing, and Related S...</td>\n",
       "      <td>221,523</td>\n",
       "      <td>12%</td>\n",
       "      <td>1072</td>\n",
       "      <td>534</td>\n",
       "      <td>537</td>\n",
       "      <td>0.12</td>\n",
       "    </tr>\n",
       "  </tbody>\n",
       "</table>\n",
       "</div>"
      ],
      "text/plain": [
       "                                IntendedCollegeMajor TestTakers Percent  \\\n",
       "0  Agriculture, AgricultureOperations, and Relate...     24,913      1%   \n",
       "1                  Architecture and Related Services     28,988      2%   \n",
       "2         Area, Ethnic, Cultural, and Gender Studies      2,629      0%   \n",
       "3                 Biological and Biomedical Sciences    155,834      8%   \n",
       "4  Business, Management, Marketing, and Related S...    221,523     12%   \n",
       "\n",
       "   Total  ReadingWriting  Math  part_per  \n",
       "0    977             496   481      0.01  \n",
       "1   1047             520   527      0.02  \n",
       "2   1040             536   504      0.00  \n",
       "3   1139             572   566      0.08  \n",
       "4   1072             534   537      0.12  "
      ]
     },
     "execution_count": 39,
     "metadata": {},
     "output_type": "execute_result"
    }
   ],
   "source": [
    "sat_2019_intended_major.head()"
   ]
  },
  {
   "cell_type": "markdown",
   "metadata": {},
   "source": [
    "#7. Rename Columns"
   ]
  },
  {
   "cell_type": "code",
   "execution_count": 40,
   "metadata": {},
   "outputs": [],
   "source": [
    "#     - Column names should be all lowercase.\n",
    "#     - Column names should not contain spaces (underscores will suffice--this allows for using the `df.column_name` method to access columns in addition to `df['column_name']`).\n",
    "#     - Column names should be unique and informative"
   ]
  },
  {
   "cell_type": "code",
   "execution_count": 41,
   "metadata": {},
   "outputs": [],
   "source": [
    "#same technique as            ufo.columns = ufo.columns.str.lower() but since we need to add the \"_\", I rename manually\n",
    "sat_2017_df.rename(columns={\n",
    "    'State': 'state',\n",
    "    'Participation': 'participation',\n",
    "    'Evidence-Based Reading and Writing': 'score_read_write',\n",
    "    'Math':'score_math',\n",
    "    'Total':'score_total',\n",
    "    \"part_per\":'participation_percent'\n",
    "}, inplace=True)\n",
    "\n",
    "\n",
    "sat_2018_df.rename(columns={\n",
    "    'State': 'state',\n",
    "    'Participation': 'participation',\n",
    "    'Evidence-Based Reading and Writing': 'score_read_write',\n",
    "    'Math':'score_math',\n",
    "    'Total':'score_total',\n",
    "    \"part_per\":'participation_percent'\n",
    "}, inplace=True)\n",
    "\n",
    "\n",
    "sat_2019_df.rename(columns={\n",
    "    'State': 'state',\n",
    "    'Participation Rate': 'participation',\n",
    "    'EBRW': 'score_read_write',\n",
    "    'Math':'score_math',\n",
    "    'Total':'score_total',\n",
    "    \"part_per\":'participation_percent'\n",
    "}, inplace=True)\n",
    "\n",
    "\n",
    "sat_2019_intended_major.rename(columns={\n",
    "    'IntendedCollegeMajor': 'intended_major',\n",
    "    'TestTakers': 'num_of_participants',\n",
    "    'Percent': 'percent',\n",
    "    'Total':'score_total',\n",
    "    'ReadingWriting':'score_read_write',\n",
    "    \"Math\":'score_math',\n",
    "    'part_per':'participation_percent'\n",
    "}, inplace=True)\n"
   ]
  },
  {
   "cell_type": "markdown",
   "metadata": {},
   "source": [
    "#8. Drop unnecessary rows (if needed)"
   ]
  },
  {
   "cell_type": "markdown",
   "metadata": {},
   "source": [
    "#9. Merge dataframes that can be merged"
   ]
  },
  {
   "cell_type": "code",
   "execution_count": 42,
   "metadata": {},
   "outputs": [
    {
     "name": "stdout",
     "output_type": "stream",
     "text": [
      "<class 'pandas.core.frame.DataFrame'>\n",
      "Int64Index: 155 entries, 0 to 52\n",
      "Data columns (total 7 columns):\n",
      " #   Column                 Non-Null Count  Dtype  \n",
      "---  ------                 --------------  -----  \n",
      " 0   state                  155 non-null    object \n",
      " 1   participation          155 non-null    object \n",
      " 2   score_read_write       155 non-null    int64  \n",
      " 3   score_math             155 non-null    int64  \n",
      " 4   score_total            155 non-null    int64  \n",
      " 5   participation_percent  155 non-null    float64\n",
      " 6   year                   155 non-null    int64  \n",
      "dtypes: float64(1), int64(4), object(2)\n",
      "memory usage: 9.7+ KB\n"
     ]
    }
   ],
   "source": [
    "#before mering 3 years of SAT resutlts, we must add a differentiating column called \"year\" in each of them\n",
    "sat_2017_df['year'] =2017\n",
    "sat_2018_df['year'] =2018\n",
    "sat_2019_df['year'] = 2019\n",
    "\n",
    "#leaving the college major one on the side for now\n",
    "sat_2019_intended_major['year'] =2019 # let's add a year name to this df just in case\n",
    "\n",
    "#then we can concat \n",
    "sat_three_years= pd.concat([sat_2017_df, sat_2018_df,sat_2019_df]) # only merging similar df\n",
    "sat_three_years.shape\n",
    "sat_three_years.info()\n"
   ]
  },
  {
   "cell_type": "markdown",
   "metadata": {},
   "source": [
    "#10. Perform any additional cleaning that you feel is necessary."
   ]
  },
  {
   "cell_type": "code",
   "execution_count": 43,
   "metadata": {},
   "outputs": [],
   "source": [
    "#>> lets drop the old participation object\n",
    "sat_three_years.drop(columns=['participation'], axis=1,inplace= True)\n",
    "sat_2019_intended_major.drop(columns=['percent'],axis=1,inplace=True)\n",
    "sat_2019_intended_major.drop(columns=['num_of_participants'],axis=1,inplace=True)"
   ]
  },
  {
   "cell_type": "code",
   "execution_count": 44,
   "metadata": {},
   "outputs": [
    {
     "name": "stdout",
     "output_type": "stream",
     "text": [
      "<class 'pandas.core.frame.DataFrame'>\n",
      "Int64Index: 155 entries, 0 to 52\n",
      "Data columns (total 6 columns):\n",
      " #   Column                 Non-Null Count  Dtype  \n",
      "---  ------                 --------------  -----  \n",
      " 0   state                  155 non-null    object \n",
      " 1   score_read_write       155 non-null    int64  \n",
      " 2   score_math             155 non-null    int64  \n",
      " 3   score_total            155 non-null    int64  \n",
      " 4   participation_percent  155 non-null    float64\n",
      " 5   year                   155 non-null    int64  \n",
      "dtypes: float64(1), int64(4), object(1)\n",
      "memory usage: 8.5+ KB\n"
     ]
    }
   ],
   "source": [
    "sat_three_years.info()"
   ]
  },
  {
   "cell_type": "code",
   "execution_count": 45,
   "metadata": {},
   "outputs": [
    {
     "data": {
      "text/html": [
       "<div>\n",
       "<style scoped>\n",
       "    .dataframe tbody tr th:only-of-type {\n",
       "        vertical-align: middle;\n",
       "    }\n",
       "\n",
       "    .dataframe tbody tr th {\n",
       "        vertical-align: top;\n",
       "    }\n",
       "\n",
       "    .dataframe thead th {\n",
       "        text-align: right;\n",
       "    }\n",
       "</style>\n",
       "<table border=\"1\" class=\"dataframe\">\n",
       "  <thead>\n",
       "    <tr style=\"text-align: right;\">\n",
       "      <th></th>\n",
       "      <th>intended_major</th>\n",
       "      <th>score_total</th>\n",
       "      <th>score_read_write</th>\n",
       "      <th>score_math</th>\n",
       "      <th>participation_percent</th>\n",
       "      <th>year</th>\n",
       "    </tr>\n",
       "  </thead>\n",
       "  <tbody>\n",
       "    <tr>\n",
       "      <th>0</th>\n",
       "      <td>Agriculture, AgricultureOperations, and Relate...</td>\n",
       "      <td>977</td>\n",
       "      <td>496</td>\n",
       "      <td>481</td>\n",
       "      <td>0.01</td>\n",
       "      <td>2019</td>\n",
       "    </tr>\n",
       "    <tr>\n",
       "      <th>1</th>\n",
       "      <td>Architecture and Related Services</td>\n",
       "      <td>1047</td>\n",
       "      <td>520</td>\n",
       "      <td>527</td>\n",
       "      <td>0.02</td>\n",
       "      <td>2019</td>\n",
       "    </tr>\n",
       "    <tr>\n",
       "      <th>2</th>\n",
       "      <td>Area, Ethnic, Cultural, and Gender Studies</td>\n",
       "      <td>1040</td>\n",
       "      <td>536</td>\n",
       "      <td>504</td>\n",
       "      <td>0.00</td>\n",
       "      <td>2019</td>\n",
       "    </tr>\n",
       "    <tr>\n",
       "      <th>3</th>\n",
       "      <td>Biological and Biomedical Sciences</td>\n",
       "      <td>1139</td>\n",
       "      <td>572</td>\n",
       "      <td>566</td>\n",
       "      <td>0.08</td>\n",
       "      <td>2019</td>\n",
       "    </tr>\n",
       "    <tr>\n",
       "      <th>4</th>\n",
       "      <td>Business, Management, Marketing, and Related S...</td>\n",
       "      <td>1072</td>\n",
       "      <td>534</td>\n",
       "      <td>537</td>\n",
       "      <td>0.12</td>\n",
       "      <td>2019</td>\n",
       "    </tr>\n",
       "  </tbody>\n",
       "</table>\n",
       "</div>"
      ],
      "text/plain": [
       "                                      intended_major  score_total  \\\n",
       "0  Agriculture, AgricultureOperations, and Relate...          977   \n",
       "1                  Architecture and Related Services         1047   \n",
       "2         Area, Ethnic, Cultural, and Gender Studies         1040   \n",
       "3                 Biological and Biomedical Sciences         1139   \n",
       "4  Business, Management, Marketing, and Related S...         1072   \n",
       "\n",
       "   score_read_write  score_math  participation_percent  year  \n",
       "0               496         481                   0.01  2019  \n",
       "1               520         527                   0.02  2019  \n",
       "2               536         504                   0.00  2019  \n",
       "3               572         566                   0.08  2019  \n",
       "4               534         537                   0.12  2019  "
      ]
     },
     "execution_count": 45,
     "metadata": {},
     "output_type": "execute_result"
    }
   ],
   "source": [
    "sat_2019_intended_major.head()"
   ]
  },
  {
   "cell_type": "markdown",
   "metadata": {},
   "source": [
    "#11 Save your cleaned and merged dataframes as csv files"
   ]
  },
  {
   "cell_type": "code",
   "execution_count": 46,
   "metadata": {},
   "outputs": [],
   "source": [
    "import os\n",
    "if not os.path.exists('output'):\n",
    "    os.makedirs('output')\n",
    "sat_three_years.to_csv('output/sat_three_years.csv')\n",
    "sat_2019_intended_major.to_csv('output/sat_intended_major.csv')\n"
   ]
  },
  {
   "cell_type": "markdown",
   "metadata": {},
   "source": [
    "### Data Dictionary\n",
    "\n",
    "Now that we've fixed our data, and given it appropriate names, let's create a [data dictionary](http://library.ucmerced.edu/node/10249). \n",
    "\n",
    "A data dictionary provides a quick overview of features/variables/columns, alongside data types and descriptions. The more descriptive you can be, the more useful this document is.\n",
    "\n",
    "Example of a Fictional Data Dictionary Entry: \n",
    "\n",
    "|Feature|Type|Dataset|Description|\n",
    "|---|---|---|---|\n",
    "|**county_pop**|*integer*|2010 census|The population of the county (units in thousands, where 2.5 represents 2500 people).| \n",
    "|**per_poverty**|*float*|2010 census|The percent of the county over the age of 18 living below the 200% of official US poverty rate (units percent to two decimal places 98.10 means 98.1%)|\n",
    "\n",
    "[Here's a quick link to a short guide for formatting markdown in Jupyter notebooks](https://jupyter-notebook.readthedocs.io/en/stable/examples/Notebook/Working%20With%20Markdown%20Cells.html).\n",
    "\n",
    "Provided is the skeleton for formatting a markdown table, with columns headers that will help you create a data dictionary to quickly summarize your data, as well as some examples. **This would be a great thing to copy and paste into your custom README for this project.**\n",
    "\n",
    "*Note*: if you are unsure of what a feature is, check the source of the data! This can be found in the README."
   ]
  },
  {
   "cell_type": "code",
   "execution_count": 47,
   "metadata": {},
   "outputs": [
    {
     "name": "stdout",
     "output_type": "stream",
     "text": [
      "<class 'pandas.core.frame.DataFrame'>\n",
      "Int64Index: 155 entries, 0 to 52\n",
      "Data columns (total 6 columns):\n",
      " #   Column                 Non-Null Count  Dtype  \n",
      "---  ------                 --------------  -----  \n",
      " 0   state                  155 non-null    object \n",
      " 1   score_read_write       155 non-null    int64  \n",
      " 2   score_math             155 non-null    int64  \n",
      " 3   score_total            155 non-null    int64  \n",
      " 4   participation_percent  155 non-null    float64\n",
      " 5   year                   155 non-null    int64  \n",
      "dtypes: float64(1), int64(4), object(1)\n",
      "memory usage: 8.5+ KB\n"
     ]
    }
   ],
   "source": [
    "sat_three_years.info()"
   ]
  },
  {
   "cell_type": "markdown",
   "metadata": {},
   "source": [
    "**To-Do:** *Edit the table below to create your own data dictionary for the datasets you chose.*\n",
    "\n",
    "|Feature|Type|Dataset|Description|\n",
    "|---|---|---|---|\n",
    "|**state**|object|sat_three_years|states where SAT was taken|\n",
    "|**score_read_write**|int|sat_three_years|score obtained in reading and writing|\n",
    "|**score_math**|int|sat_three_years|score obtained in math|\n",
    "|**score_total**|int|sat_three_years|sum of reading_writing and math|\n",
    "|**participation_percent**|float|sat_three_years|% of the student population who have taken the test|\n",
    "|**year**|int|sat_three_years|year of the test|\n",
    "\n",
    "<br>\n",
    "<br>"
   ]
  },
  {
   "cell_type": "markdown",
   "metadata": {},
   "source": [
    "|Feature|Type|Dataset|Description|\n",
    "|---|---|---|---|\n",
    "|**intended_major**|object|sat_2019_intended_major|Major intended to be taken if pass test with required |\n",
    "|**score_total**|int|sat_2019_intended_major|sum of reading_writing and math|\n",
    "|**score_math**|int|sat_2019_intended_major|score obtained in math|\n",
    "|**score_read_write**|int|sat_2019_intended_major|score obtained on in reading and writing|\n",
    "|**participation_percent**|float|sat_2019_intended_major|% of the student population who have taken the test|\n",
    "|**year**|int|sat_2019_intended_major|year of the test|\n",
    "\n",
    "<br>\n",
    "<br>"
   ]
  },
  {
   "cell_type": "markdown",
   "metadata": {},
   "source": [
    "## Exploratory Data Analysis\n",
    "\n",
    "Complete the following steps to explore your data. You are welcome to do more EDA than the steps outlined here as you feel necessary:\n",
    "1. Summary Statistics.\n",
    "2. Use a **dictionary comprehension** to apply the standard deviation function you create in part 1 to each numeric column in the dataframe.  **No loops**.\n",
    "    - Assign the output to variable `sd` as a dictionary where: \n",
    "        - Each column name is now a key \n",
    "        - That standard deviation of the column is the value \n",
    "        - *Example Output :* `{'ACT_Math': 120, 'ACT_Reading': 120, ...}`\n",
    "3. Investigate trends in the data.\n",
    "    - Using sorting and/or masking (along with the `.head()` method to avoid printing our entire dataframe), consider questions relevant to your problem statement. Some examples are provided below (but feel free to change these questions for your specific problem):\n",
    "        - Which states have the highest and lowest participation rates for the 2017, 2019, or 2019 SAT and ACT?\n",
    "        - Which states have the highest and lowest mean total/composite scores for the 2017, 2019, or 2019 SAT and ACT?\n",
    "        - Do any states with 100% participation on a given test have a rate change year-to-year?\n",
    "        - Do any states show have >50% participation on *both* tests each year?\n",
    "        - Which colleges have the highest median SAT and ACT scores for admittance?\n",
    "        - Which California school districts have the highest and lowest mean test scores?\n",
    "    - **You should comment on your findings at each step in a markdown cell below your code block**. Make sure you include at least one example of sorting your dataframe by a column, and one example of using boolean filtering (i.e., masking) to select a subset of the dataframe."
   ]
  },
  {
   "cell_type": "markdown",
   "metadata": {},
   "source": [
    "#### Let's do a summary of main statistics for all the 2 df ( sat_three_years and sat_2019_intended_major)\n",
    "*mean*<br>\n",
    "*std*<br>\n",
    "*min and max*"
   ]
  },
  {
   "cell_type": "markdown",
   "metadata": {},
   "source": [
    "#lets look at the mean for our concatenated file"
   ]
  },
  {
   "cell_type": "code",
   "execution_count": 48,
   "metadata": {},
   "outputs": [],
   "source": [
    "columns_meta_df = ['score_total','score_math','score_read_write']"
   ]
  },
  {
   "cell_type": "code",
   "execution_count": 49,
   "metadata": {},
   "outputs": [
    {
     "data": {
      "text/html": [
       "<div>\n",
       "<style scoped>\n",
       "    .dataframe tbody tr th:only-of-type {\n",
       "        vertical-align: middle;\n",
       "    }\n",
       "\n",
       "    .dataframe tbody tr th {\n",
       "        vertical-align: top;\n",
       "    }\n",
       "\n",
       "    .dataframe thead th {\n",
       "        text-align: right;\n",
       "    }\n",
       "</style>\n",
       "<table border=\"1\" class=\"dataframe\">\n",
       "  <thead>\n",
       "    <tr style=\"text-align: right;\">\n",
       "      <th></th>\n",
       "      <th>score_total</th>\n",
       "      <th>score_math</th>\n",
       "      <th>score_read_write</th>\n",
       "    </tr>\n",
       "    <tr>\n",
       "      <th>year</th>\n",
       "      <th></th>\n",
       "      <th></th>\n",
       "      <th></th>\n",
       "    </tr>\n",
       "  </thead>\n",
       "  <tbody>\n",
       "    <tr>\n",
       "      <th>2017</th>\n",
       "      <td>1126.098039</td>\n",
       "      <td>556.882353</td>\n",
       "      <td>569.117647</td>\n",
       "    </tr>\n",
       "    <tr>\n",
       "      <th>2018</th>\n",
       "      <td>1120.019608</td>\n",
       "      <td>556.235294</td>\n",
       "      <td>563.686275</td>\n",
       "    </tr>\n",
       "    <tr>\n",
       "      <th>2019</th>\n",
       "      <td>1106.528302</td>\n",
       "      <td>548.471698</td>\n",
       "      <td>558.000000</td>\n",
       "    </tr>\n",
       "  </tbody>\n",
       "</table>\n",
       "</div>"
      ],
      "text/plain": [
       "      score_total  score_math  score_read_write\n",
       "year                                           \n",
       "2017  1126.098039  556.882353        569.117647\n",
       "2018  1120.019608  556.235294        563.686275\n",
       "2019  1106.528302  548.471698        558.000000"
      ]
     },
     "execution_count": 49,
     "metadata": {},
     "output_type": "execute_result"
    }
   ],
   "source": [
    "# # #Code:\n",
    "sat_three_years.groupby(by='year')[columns_meta_df].mean()"
   ]
  },
  {
   "cell_type": "markdown",
   "metadata": {},
   "source": [
    "#lets look at the std for our concatenated file"
   ]
  },
  {
   "cell_type": "code",
   "execution_count": 50,
   "metadata": {},
   "outputs": [
    {
     "data": {
      "text/html": [
       "<div>\n",
       "<style scoped>\n",
       "    .dataframe tbody tr th:only-of-type {\n",
       "        vertical-align: middle;\n",
       "    }\n",
       "\n",
       "    .dataframe tbody tr th {\n",
       "        vertical-align: top;\n",
       "    }\n",
       "\n",
       "    .dataframe thead th {\n",
       "        text-align: right;\n",
       "    }\n",
       "</style>\n",
       "<table border=\"1\" class=\"dataframe\">\n",
       "  <thead>\n",
       "    <tr style=\"text-align: right;\">\n",
       "      <th>year</th>\n",
       "      <th>2017</th>\n",
       "      <th>2018</th>\n",
       "      <th>2019</th>\n",
       "    </tr>\n",
       "  </thead>\n",
       "  <tbody>\n",
       "    <tr>\n",
       "      <th>score_total</th>\n",
       "      <td>92.494812</td>\n",
       "      <td>94.155083</td>\n",
       "      <td>100.994784</td>\n",
       "    </tr>\n",
       "    <tr>\n",
       "      <th>score_math</th>\n",
       "      <td>47.121395</td>\n",
       "      <td>47.772623</td>\n",
       "      <td>53.785044</td>\n",
       "    </tr>\n",
       "    <tr>\n",
       "      <th>score_read_write</th>\n",
       "      <td>45.666901</td>\n",
       "      <td>47.502627</td>\n",
       "      <td>47.554422</td>\n",
       "    </tr>\n",
       "  </tbody>\n",
       "</table>\n",
       "</div>"
      ],
      "text/plain": [
       "year                   2017       2018        2019\n",
       "score_total       92.494812  94.155083  100.994784\n",
       "score_math        47.121395  47.772623   53.785044\n",
       "score_read_write  45.666901  47.502627   47.554422"
      ]
     },
     "execution_count": 50,
     "metadata": {},
     "output_type": "execute_result"
    }
   ],
   "source": [
    "sat_three_years.groupby(by='year')[columns_meta_df].std().T"
   ]
  },
  {
   "cell_type": "markdown",
   "metadata": {},
   "source": [
    "#lets look at the min for our concatenated file"
   ]
  },
  {
   "cell_type": "code",
   "execution_count": 51,
   "metadata": {},
   "outputs": [
    {
     "data": {
      "text/html": [
       "<div>\n",
       "<style scoped>\n",
       "    .dataframe tbody tr th:only-of-type {\n",
       "        vertical-align: middle;\n",
       "    }\n",
       "\n",
       "    .dataframe tbody tr th {\n",
       "        vertical-align: top;\n",
       "    }\n",
       "\n",
       "    .dataframe thead th {\n",
       "        text-align: right;\n",
       "    }\n",
       "</style>\n",
       "<table border=\"1\" class=\"dataframe\">\n",
       "  <thead>\n",
       "    <tr style=\"text-align: right;\">\n",
       "      <th></th>\n",
       "      <th>score_total</th>\n",
       "      <th>score_math</th>\n",
       "      <th>score_read_write</th>\n",
       "    </tr>\n",
       "    <tr>\n",
       "      <th>year</th>\n",
       "      <th></th>\n",
       "      <th></th>\n",
       "      <th></th>\n",
       "    </tr>\n",
       "  </thead>\n",
       "  <tbody>\n",
       "    <tr>\n",
       "      <th>2017</th>\n",
       "      <td>950</td>\n",
       "      <td>468</td>\n",
       "      <td>482</td>\n",
       "    </tr>\n",
       "    <tr>\n",
       "      <th>2018</th>\n",
       "      <td>977</td>\n",
       "      <td>480</td>\n",
       "      <td>480</td>\n",
       "    </tr>\n",
       "    <tr>\n",
       "      <th>2019</th>\n",
       "      <td>935</td>\n",
       "      <td>445</td>\n",
       "      <td>483</td>\n",
       "    </tr>\n",
       "  </tbody>\n",
       "</table>\n",
       "</div>"
      ],
      "text/plain": [
       "      score_total  score_math  score_read_write\n",
       "year                                           \n",
       "2017          950         468               482\n",
       "2018          977         480               480\n",
       "2019          935         445               483"
      ]
     },
     "execution_count": 51,
     "metadata": {},
     "output_type": "execute_result"
    }
   ],
   "source": [
    "sat_three_years.groupby(by='year')[columns_meta_df].min()"
   ]
  },
  {
   "cell_type": "markdown",
   "metadata": {},
   "source": [
    "#lets look at the max for our concatenated file"
   ]
  },
  {
   "cell_type": "code",
   "execution_count": 52,
   "metadata": {},
   "outputs": [
    {
     "data": {
      "text/html": [
       "<div>\n",
       "<style scoped>\n",
       "    .dataframe tbody tr th:only-of-type {\n",
       "        vertical-align: middle;\n",
       "    }\n",
       "\n",
       "    .dataframe tbody tr th {\n",
       "        vertical-align: top;\n",
       "    }\n",
       "\n",
       "    .dataframe thead th {\n",
       "        text-align: right;\n",
       "    }\n",
       "</style>\n",
       "<table border=\"1\" class=\"dataframe\">\n",
       "  <thead>\n",
       "    <tr style=\"text-align: right;\">\n",
       "      <th></th>\n",
       "      <th>score_total</th>\n",
       "      <th>score_math</th>\n",
       "      <th>score_read_write</th>\n",
       "    </tr>\n",
       "    <tr>\n",
       "      <th>year</th>\n",
       "      <th></th>\n",
       "      <th></th>\n",
       "      <th></th>\n",
       "    </tr>\n",
       "  </thead>\n",
       "  <tbody>\n",
       "    <tr>\n",
       "      <th>2017</th>\n",
       "      <td>1295</td>\n",
       "      <td>651</td>\n",
       "      <td>644</td>\n",
       "    </tr>\n",
       "    <tr>\n",
       "      <th>2018</th>\n",
       "      <td>1298</td>\n",
       "      <td>655</td>\n",
       "      <td>643</td>\n",
       "    </tr>\n",
       "    <tr>\n",
       "      <th>2019</th>\n",
       "      <td>1284</td>\n",
       "      <td>648</td>\n",
       "      <td>636</td>\n",
       "    </tr>\n",
       "  </tbody>\n",
       "</table>\n",
       "</div>"
      ],
      "text/plain": [
       "      score_total  score_math  score_read_write\n",
       "year                                           \n",
       "2017         1295         651               644\n",
       "2018         1298         655               643\n",
       "2019         1284         648               636"
      ]
     },
     "execution_count": 52,
     "metadata": {},
     "output_type": "execute_result"
    }
   ],
   "source": [
    "sat_three_years.groupby(by='year')[columns_meta_df].max()"
   ]
  },
  {
   "cell_type": "markdown",
   "metadata": {},
   "source": [
    "#lets look at all 3 metrics for the intended major file"
   ]
  },
  {
   "cell_type": "code",
   "execution_count": 53,
   "metadata": {},
   "outputs": [
    {
     "data": {
      "text/html": [
       "<div>\n",
       "<style scoped>\n",
       "    .dataframe tbody tr th:only-of-type {\n",
       "        vertical-align: middle;\n",
       "    }\n",
       "\n",
       "    .dataframe tbody tr th {\n",
       "        vertical-align: top;\n",
       "    }\n",
       "\n",
       "    .dataframe thead th {\n",
       "        text-align: right;\n",
       "    }\n",
       "</style>\n",
       "<table border=\"1\" class=\"dataframe\">\n",
       "  <thead>\n",
       "    <tr style=\"text-align: right;\">\n",
       "      <th></th>\n",
       "      <th>score_total</th>\n",
       "      <th>score_read_write</th>\n",
       "      <th>score_math</th>\n",
       "      <th>participation_percent</th>\n",
       "      <th>year</th>\n",
       "    </tr>\n",
       "  </thead>\n",
       "  <tbody>\n",
       "    <tr>\n",
       "      <th>count</th>\n",
       "      <td>38.000000</td>\n",
       "      <td>38.000000</td>\n",
       "      <td>38.000000</td>\n",
       "      <td>38.000000</td>\n",
       "      <td>38.0</td>\n",
       "    </tr>\n",
       "    <tr>\n",
       "      <th>mean</th>\n",
       "      <td>1058.500000</td>\n",
       "      <td>535.500000</td>\n",
       "      <td>523.000000</td>\n",
       "      <td>0.025789</td>\n",
       "      <td>2019.0</td>\n",
       "    </tr>\n",
       "    <tr>\n",
       "      <th>std</th>\n",
       "      <td>82.445969</td>\n",
       "      <td>41.362439</td>\n",
       "      <td>43.386385</td>\n",
       "      <td>0.039975</td>\n",
       "      <td>0.0</td>\n",
       "    </tr>\n",
       "    <tr>\n",
       "      <th>min</th>\n",
       "      <td>916.000000</td>\n",
       "      <td>458.000000</td>\n",
       "      <td>456.000000</td>\n",
       "      <td>0.000000</td>\n",
       "      <td>2019.0</td>\n",
       "    </tr>\n",
       "    <tr>\n",
       "      <th>25%</th>\n",
       "      <td>988.250000</td>\n",
       "      <td>501.250000</td>\n",
       "      <td>486.500000</td>\n",
       "      <td>0.000000</td>\n",
       "      <td>2019.0</td>\n",
       "    </tr>\n",
       "    <tr>\n",
       "      <th>50%</th>\n",
       "      <td>1066.500000</td>\n",
       "      <td>537.000000</td>\n",
       "      <td>527.000000</td>\n",
       "      <td>0.010000</td>\n",
       "      <td>2019.0</td>\n",
       "    </tr>\n",
       "    <tr>\n",
       "      <th>75%</th>\n",
       "      <td>1115.500000</td>\n",
       "      <td>569.750000</td>\n",
       "      <td>542.250000</td>\n",
       "      <td>0.035000</td>\n",
       "      <td>2019.0</td>\n",
       "    </tr>\n",
       "    <tr>\n",
       "      <th>max</th>\n",
       "      <td>1242.000000</td>\n",
       "      <td>597.000000</td>\n",
       "      <td>646.000000</td>\n",
       "      <td>0.180000</td>\n",
       "      <td>2019.0</td>\n",
       "    </tr>\n",
       "  </tbody>\n",
       "</table>\n",
       "</div>"
      ],
      "text/plain": [
       "       score_total  score_read_write  score_math  participation_percent  \\\n",
       "count    38.000000         38.000000   38.000000              38.000000   \n",
       "mean   1058.500000        535.500000  523.000000               0.025789   \n",
       "std      82.445969         41.362439   43.386385               0.039975   \n",
       "min     916.000000        458.000000  456.000000               0.000000   \n",
       "25%     988.250000        501.250000  486.500000               0.000000   \n",
       "50%    1066.500000        537.000000  527.000000               0.010000   \n",
       "75%    1115.500000        569.750000  542.250000               0.035000   \n",
       "max    1242.000000        597.000000  646.000000               0.180000   \n",
       "\n",
       "         year  \n",
       "count    38.0  \n",
       "mean   2019.0  \n",
       "std       0.0  \n",
       "min    2019.0  \n",
       "25%    2019.0  \n",
       "50%    2019.0  \n",
       "75%    2019.0  \n",
       "max    2019.0  "
      ]
     },
     "execution_count": 53,
     "metadata": {},
     "output_type": "execute_result"
    }
   ],
   "source": [
    "sat_2019_intended_major.describe()"
   ]
  },
  {
   "cell_type": "markdown",
   "metadata": {},
   "source": [
    "2. Use a **dictionary comprehension** to apply the standard deviation function you create in part 1 to each numeric column in the dataframe.  **No loops**.\n",
    "    - Assign the output to variable `sd` as a dictionary where: \n",
    "        - Each column name is now a key \n",
    "        - That standard deviation of the column is the value \n",
    "        - *Example Output :* `{'ACT_Math': 120, 'ACT_Reading': 120, ...}"
   ]
  },
  {
   "cell_type": "code",
   "execution_count": 54,
   "metadata": {},
   "outputs": [],
   "source": [
    "#We would like our final output to look like this:\n",
    "final_dict = {\n",
    "    2017:\n",
    "    {'score_math':20,\n",
    "    'score_ebrw':20,\n",
    "    'score_total':30}\n",
    "    ,\n",
    "    2018:\n",
    "    {'score_math':20,\n",
    "    'score_ebrw':20,\n",
    "    'score_total':30}\n",
    "    ,\n",
    "    2019:\n",
    "    {'score_math':20,\n",
    "    'score_ebrw':20,\n",
    "    'score_total':30}\n",
    "\n",
    "}"
   ]
  },
  {
   "cell_type": "markdown",
   "metadata": {},
   "source": [
    "#we will only do it for the concatenated file"
   ]
  },
  {
   "cell_type": "code",
   "execution_count": 55,
   "metadata": {},
   "outputs": [
    {
     "data": {
      "text/plain": [
       "{2017: {'score_read_write': score_read_write    45.666901\n",
       "  dtype: float64,\n",
       "  'score_math': score_math    47.121395\n",
       "  dtype: float64,\n",
       "  'score_total': score_total    92.494812\n",
       "  dtype: float64},\n",
       " 2018: {'score_read_write': score_read_write    47.502627\n",
       "  dtype: float64,\n",
       "  'score_math': score_math    47.772623\n",
       "  dtype: float64,\n",
       "  'score_total': score_total    94.155083\n",
       "  dtype: float64},\n",
       " 2019: {'score_read_write': score_read_write    47.554422\n",
       "  dtype: float64,\n",
       "  'score_math': score_math    53.785044\n",
       "  dtype: float64,\n",
       "  'score_total': score_total    100.994784\n",
       "  dtype: float64}}"
      ]
     },
     "execution_count": 55,
     "metadata": {},
     "output_type": "execute_result"
    }
   ],
   "source": [
    "years =list((sat_three_years[\"year\"]).unique()) # to iterate over the years in the concatenated file\n",
    "\n",
    "sd={}\n",
    "sd = {year:{column:np.std(sat_three_years.loc[sat_three_years['year']==year,[column]],ddof=1) for column in sat_three_years.columns[1:4]} for year in years}\n",
    "# we pass the ddof =1 to np to match python std calculation\n",
    "sd"
   ]
  },
  {
   "cell_type": "markdown",
   "metadata": {},
   "source": [
    "3. Investigate trends in the data.\n",
    "    - Using sorting and/or masking (along with the `.head()` method to avoid printing our entire dataframe), consider questions relevant to your problem statement. Some examples are provided below (but feel free to change these questions for your specific problem):\n",
    "        - Which states have the highest and lowest participation rates for the 2017, 2019, or 2019 SAT and ACT?\n",
    "        - Which states have the highest and lowest mean total/composite scores for the 2017, 2019, or 2019 SAT and ACT?\n",
    "        - Do any states with 100% participation on a given test have a rate change year-to-year?\n",
    "        - Do any states show have >50% participation on *both* tests each year?\n",
    "        - Which colleges have the highest median SAT and ACT scores for admittance?\n",
    "        - Which California school districts have the highest and lowest mean test scores?\n",
    "    - **You should comment on your findings at each step in a markdown cell below your code block**. Make sure you include at least one example of sorting your dataframe by a column, and one example of using boolean filtering (i.e., masking) to select a subset of the dataframe."
   ]
  },
  {
   "cell_type": "code",
   "execution_count": 56,
   "metadata": {},
   "outputs": [
    {
     "name": "stdout",
     "output_type": "stream",
     "text": [
      "    participation_percent                 state\n",
      "8                    1.00  District of Columbia\n",
      "22                   1.00              Michigan\n",
      "6                    1.00           Connecticut\n",
      "7                    1.00              Delaware\n",
      "29                   0.96         New Hampshire\n",
      "19                   0.95                 Maine\n",
      "12                   0.93                 Idaho\n",
      "    participation_percent                 state\n",
      "5                    1.00              Colorado\n",
      "6                    1.00           Connecticut\n",
      "7                    1.00              Delaware\n",
      "22                   1.00              Michigan\n",
      "12                   1.00                 Idaho\n",
      "19                   0.99                 Maine\n",
      "13                   0.99              Illinois\n",
      "39                   0.97          Rhode Island\n",
      "29                   0.96         New Hampshire\n",
      "8                    0.92  District of Columbia\n",
      "    participation_percent         state\n",
      "5                     1.0      Colorado\n",
      "6                     1.0   Connecticut\n",
      "7                     1.0      Delaware\n",
      "9                     1.0       Florida\n",
      "12                    1.0         Idaho\n",
      "13                    1.0      Illinois\n",
      "40                    1.0  Rhode Island\n"
     ]
    }
   ],
   "source": [
    "#which state have the highest participation rate per year\n",
    "print(sat_three_years.loc[sat_three_years[\"year\"]==2017,['participation_percent','state']].sort_values(\"participation_percent\",ascending=False).head(7))\n",
    "print(sat_three_years.loc[sat_three_years[\"year\"]==2018,['participation_percent','state']].sort_values(\"participation_percent\",ascending=False).head(10))\n",
    "print(sat_three_years.loc[sat_three_years[\"year\"]==2019,['participation_percent','state']].sort_values(\"participation_percent\",ascending=False).head(7))"
   ]
  },
  {
   "cell_type": "markdown",
   "metadata": {},
   "source": [
    "#### Top participation score states are ex-aequo at 100% : Connecticut, Colorado, DC, Columbia and Delaware, year over year"
   ]
  },
  {
   "cell_type": "markdown",
   "metadata": {},
   "source": [
    " ##### Most of the states maintain their participation rate at the same level\n",
    " ##### it seems to be mandatory to take SAT for these states <br>\n",
    " https://prepmaven.com/blog/test-prep/states-require-sat-act/"
   ]
  },
  {
   "cell_type": "markdown",
   "metadata": {},
   "source": [
    " - Do any states with 100% participation on a given test have a rate change year-to-year?"
   ]
  },
  {
   "cell_type": "code",
   "execution_count": 57,
   "metadata": {},
   "outputs": [
    {
     "name": "stdout",
     "output_type": "stream",
     "text": [
      "    participation_percent         state\n",
      "34                   0.02  North Dakota\n",
      "24                   0.02   Mississippi\n",
      "15                   0.02          Iowa\n",
      "    participation_percent         state\n",
      "34                   0.02  North Dakota\n",
      "50                   0.03       Wyoming\n",
      "41                   0.03  South Dakota\n",
      "    participation_percent           state\n",
      "47                   0.00  Virgin Islands\n",
      "39                   0.00     Puerto Rico\n",
      "34                   0.02    North Dakota\n"
     ]
    }
   ],
   "source": [
    "#which state have the lowest participation rate per year\n",
    "print(sat_three_years.loc[sat_three_years[\"year\"]==2017,['participation_percent','state']].sort_values(\"participation_percent\",ascending=True).head(3))\n",
    "print(sat_three_years.loc[sat_three_years[\"year\"]==2018,['participation_percent','state']].sort_values(\"participation_percent\",ascending=True).head(3))\n",
    "print(sat_three_years.loc[sat_three_years[\"year\"]==2019,['participation_percent','state']].sort_values(\"participation_percent\",ascending=True).head(3))"
   ]
  },
  {
   "cell_type": "markdown",
   "metadata": {},
   "source": [
    "#### Lowest participation score states were Virgin Islands, Puerto Rico and North Dakota"
   ]
  },
  {
   "cell_type": "code",
   "execution_count": 58,
   "metadata": {},
   "outputs": [
    {
     "data": {
      "text/html": [
       "<div>\n",
       "<style scoped>\n",
       "    .dataframe tbody tr th:only-of-type {\n",
       "        vertical-align: middle;\n",
       "    }\n",
       "\n",
       "    .dataframe tbody tr th {\n",
       "        vertical-align: top;\n",
       "    }\n",
       "\n",
       "    .dataframe thead th {\n",
       "        text-align: right;\n",
       "    }\n",
       "</style>\n",
       "<table border=\"1\" class=\"dataframe\">\n",
       "  <thead>\n",
       "    <tr style=\"text-align: right;\">\n",
       "      <th></th>\n",
       "      <th>score_read_write</th>\n",
       "      <th>score_math</th>\n",
       "      <th>score_total</th>\n",
       "      <th>participation_percent</th>\n",
       "      <th>year</th>\n",
       "    </tr>\n",
       "  </thead>\n",
       "  <tbody>\n",
       "    <tr>\n",
       "      <th>score_read_write</th>\n",
       "      <td>1.000000</td>\n",
       "      <td>0.987056</td>\n",
       "      <td>0.996661</td>\n",
       "      <td>-0.874326</td>\n",
       "      <td>NaN</td>\n",
       "    </tr>\n",
       "    <tr>\n",
       "      <th>score_math</th>\n",
       "      <td>0.987056</td>\n",
       "      <td>1.000000</td>\n",
       "      <td>0.996822</td>\n",
       "      <td>-0.855091</td>\n",
       "      <td>NaN</td>\n",
       "    </tr>\n",
       "    <tr>\n",
       "      <th>score_total</th>\n",
       "      <td>0.996661</td>\n",
       "      <td>0.996822</td>\n",
       "      <td>1.000000</td>\n",
       "      <td>-0.867540</td>\n",
       "      <td>NaN</td>\n",
       "    </tr>\n",
       "    <tr>\n",
       "      <th>participation_percent</th>\n",
       "      <td>-0.874326</td>\n",
       "      <td>-0.855091</td>\n",
       "      <td>-0.867540</td>\n",
       "      <td>1.000000</td>\n",
       "      <td>NaN</td>\n",
       "    </tr>\n",
       "    <tr>\n",
       "      <th>year</th>\n",
       "      <td>NaN</td>\n",
       "      <td>NaN</td>\n",
       "      <td>NaN</td>\n",
       "      <td>NaN</td>\n",
       "      <td>NaN</td>\n",
       "    </tr>\n",
       "  </tbody>\n",
       "</table>\n",
       "</div>"
      ],
      "text/plain": [
       "                       score_read_write  score_math  score_total  \\\n",
       "score_read_write               1.000000    0.987056     0.996661   \n",
       "score_math                     0.987056    1.000000     0.996822   \n",
       "score_total                    0.996661    0.996822     1.000000   \n",
       "participation_percent         -0.874326   -0.855091    -0.867540   \n",
       "year                                NaN         NaN          NaN   \n",
       "\n",
       "                       participation_percent  year  \n",
       "score_read_write                   -0.874326   NaN  \n",
       "score_math                         -0.855091   NaN  \n",
       "score_total                        -0.867540   NaN  \n",
       "participation_percent               1.000000   NaN  \n",
       "year                                     NaN   NaN  "
      ]
     },
     "execution_count": 58,
     "metadata": {},
     "output_type": "execute_result"
    }
   ],
   "source": [
    "#checking whether we have any obvious correlations for a given year in the dataset\n",
    "sat_three_years.loc[sat_three_years['year']==2017].corr()"
   ]
  },
  {
   "cell_type": "markdown",
   "metadata": {},
   "source": [
    "**Observations**  \n",
    "*Read_write and math scores are highly correlated (which makes sense : it would be surprising for a state to be significantly worse at math compared to read_write for example )*\n",
    "<br>\n",
    "\n",
    "*however participation % is highly negatively correlated with score_total, which is surprising. Checking 2018 and 2019 to confirm whether it's a trend:*"
   ]
  },
  {
   "cell_type": "code",
   "execution_count": 59,
   "metadata": {},
   "outputs": [
    {
     "data": {
      "text/html": [
       "<div>\n",
       "<style scoped>\n",
       "    .dataframe tbody tr th:only-of-type {\n",
       "        vertical-align: middle;\n",
       "    }\n",
       "\n",
       "    .dataframe tbody tr th {\n",
       "        vertical-align: top;\n",
       "    }\n",
       "\n",
       "    .dataframe thead th {\n",
       "        text-align: right;\n",
       "    }\n",
       "</style>\n",
       "<table border=\"1\" class=\"dataframe\">\n",
       "  <thead>\n",
       "    <tr style=\"text-align: right;\">\n",
       "      <th></th>\n",
       "      <th>score_read_write</th>\n",
       "      <th>score_math</th>\n",
       "      <th>score_total</th>\n",
       "      <th>participation_percent</th>\n",
       "      <th>year</th>\n",
       "    </tr>\n",
       "  </thead>\n",
       "  <tbody>\n",
       "    <tr>\n",
       "      <th>score_read_write</th>\n",
       "      <td>1.000000</td>\n",
       "      <td>0.954661</td>\n",
       "      <td>0.988560</td>\n",
       "      <td>-0.762055</td>\n",
       "      <td>NaN</td>\n",
       "    </tr>\n",
       "    <tr>\n",
       "      <th>score_math</th>\n",
       "      <td>0.954661</td>\n",
       "      <td>1.000000</td>\n",
       "      <td>0.988622</td>\n",
       "      <td>-0.791338</td>\n",
       "      <td>NaN</td>\n",
       "    </tr>\n",
       "    <tr>\n",
       "      <th>score_total</th>\n",
       "      <td>0.988560</td>\n",
       "      <td>0.988622</td>\n",
       "      <td>1.000000</td>\n",
       "      <td>-0.785926</td>\n",
       "      <td>NaN</td>\n",
       "    </tr>\n",
       "    <tr>\n",
       "      <th>participation_percent</th>\n",
       "      <td>-0.762055</td>\n",
       "      <td>-0.791338</td>\n",
       "      <td>-0.785926</td>\n",
       "      <td>1.000000</td>\n",
       "      <td>NaN</td>\n",
       "    </tr>\n",
       "    <tr>\n",
       "      <th>year</th>\n",
       "      <td>NaN</td>\n",
       "      <td>NaN</td>\n",
       "      <td>NaN</td>\n",
       "      <td>NaN</td>\n",
       "      <td>NaN</td>\n",
       "    </tr>\n",
       "  </tbody>\n",
       "</table>\n",
       "</div>"
      ],
      "text/plain": [
       "                       score_read_write  score_math  score_total  \\\n",
       "score_read_write               1.000000    0.954661     0.988560   \n",
       "score_math                     0.954661    1.000000     0.988622   \n",
       "score_total                    0.988560    0.988622     1.000000   \n",
       "participation_percent         -0.762055   -0.791338    -0.785926   \n",
       "year                                NaN         NaN          NaN   \n",
       "\n",
       "                       participation_percent  year  \n",
       "score_read_write                   -0.762055   NaN  \n",
       "score_math                         -0.791338   NaN  \n",
       "score_total                        -0.785926   NaN  \n",
       "participation_percent               1.000000   NaN  \n",
       "year                                     NaN   NaN  "
      ]
     },
     "execution_count": 59,
     "metadata": {},
     "output_type": "execute_result"
    }
   ],
   "source": [
    "#checking whether we have any obvious correlations for a given year in the dataset\n",
    "sat_three_years.loc[sat_three_years['year']==2018].corr()"
   ]
  },
  {
   "cell_type": "code",
   "execution_count": 60,
   "metadata": {},
   "outputs": [
    {
     "data": {
      "text/html": [
       "<div>\n",
       "<style scoped>\n",
       "    .dataframe tbody tr th:only-of-type {\n",
       "        vertical-align: middle;\n",
       "    }\n",
       "\n",
       "    .dataframe tbody tr th {\n",
       "        vertical-align: top;\n",
       "    }\n",
       "\n",
       "    .dataframe thead th {\n",
       "        text-align: right;\n",
       "    }\n",
       "</style>\n",
       "<table border=\"1\" class=\"dataframe\">\n",
       "  <thead>\n",
       "    <tr style=\"text-align: right;\">\n",
       "      <th></th>\n",
       "      <th>score_read_write</th>\n",
       "      <th>score_math</th>\n",
       "      <th>score_total</th>\n",
       "      <th>participation_percent</th>\n",
       "      <th>year</th>\n",
       "    </tr>\n",
       "  </thead>\n",
       "  <tbody>\n",
       "    <tr>\n",
       "      <th>score_read_write</th>\n",
       "      <td>1.000000</td>\n",
       "      <td>0.984961</td>\n",
       "      <td>0.995752</td>\n",
       "      <td>-0.735930</td>\n",
       "      <td>NaN</td>\n",
       "    </tr>\n",
       "    <tr>\n",
       "      <th>score_math</th>\n",
       "      <td>0.984961</td>\n",
       "      <td>1.000000</td>\n",
       "      <td>0.996663</td>\n",
       "      <td>-0.682517</td>\n",
       "      <td>NaN</td>\n",
       "    </tr>\n",
       "    <tr>\n",
       "      <th>score_total</th>\n",
       "      <td>0.995752</td>\n",
       "      <td>0.996663</td>\n",
       "      <td>1.000000</td>\n",
       "      <td>-0.709586</td>\n",
       "      <td>NaN</td>\n",
       "    </tr>\n",
       "    <tr>\n",
       "      <th>participation_percent</th>\n",
       "      <td>-0.735930</td>\n",
       "      <td>-0.682517</td>\n",
       "      <td>-0.709586</td>\n",
       "      <td>1.000000</td>\n",
       "      <td>NaN</td>\n",
       "    </tr>\n",
       "    <tr>\n",
       "      <th>year</th>\n",
       "      <td>NaN</td>\n",
       "      <td>NaN</td>\n",
       "      <td>NaN</td>\n",
       "      <td>NaN</td>\n",
       "      <td>NaN</td>\n",
       "    </tr>\n",
       "  </tbody>\n",
       "</table>\n",
       "</div>"
      ],
      "text/plain": [
       "                       score_read_write  score_math  score_total  \\\n",
       "score_read_write               1.000000    0.984961     0.995752   \n",
       "score_math                     0.984961    1.000000     0.996663   \n",
       "score_total                    0.995752    0.996663     1.000000   \n",
       "participation_percent         -0.735930   -0.682517    -0.709586   \n",
       "year                                NaN         NaN          NaN   \n",
       "\n",
       "                       participation_percent  year  \n",
       "score_read_write                   -0.735930   NaN  \n",
       "score_math                         -0.682517   NaN  \n",
       "score_total                        -0.709586   NaN  \n",
       "participation_percent               1.000000   NaN  \n",
       "year                                     NaN   NaN  "
      ]
     },
     "execution_count": 60,
     "metadata": {},
     "output_type": "execute_result"
    }
   ],
   "source": [
    "#checking whether we have any obvious correlations for a given year in the dataset\n",
    "sat_three_years.loc[sat_three_years['year']==2019].corr()"
   ]
  },
  {
   "cell_type": "markdown",
   "metadata": {},
   "source": [
    "**Observation:** *correlation is confirmed between participation and score_total. however, correlation is not causation: we cannot yet deduct from here that because the % rate is low, then the score total is high.*"
   ]
  },
  {
   "cell_type": "markdown",
   "metadata": {},
   "source": [
    "## Visualize the Data\n",
    "\n",
    "There's not a magic bullet recommendation for the right number of plots to understand a given dataset, but visualizing your data is *always* a good idea. Not only does it allow you to quickly convey your findings (even if you have a non-technical audience), it will often reveal trends in your data that escaped you when you were looking only at numbers. It is important to not only create visualizations, but to **interpret your visualizations** as well.\n",
    "\n",
    "**Every plot should**:\n",
    "- Have a title\n",
    "- Have axis labels\n",
    "- Have appropriate tick labels\n",
    "- Text is legible in a plot\n",
    "- Plots demonstrate meaningful and valid relationships\n",
    "- Have an interpretation to aid understanding\n",
    "\n",
    "Here is an example of what your plots should look like following the above guidelines. Note that while the content of this example is unrelated, the principles of visualization hold:\n",
    "\n",
    "![](https://snag.gy/hCBR1U.jpg)\n",
    "*Interpretation: The above image shows that as we increase our spending on advertising, our sales numbers also tend to increase. There is a positive correlation between advertising spending and sales.*\n",
    "\n",
    "---\n",
    "\n",
    "Here are some prompts to get you started with visualizations. Feel free to add additional visualizations as you see fit:\n",
    "1. Use Seaborn's heatmap with pandas `.corr()` to visualize correlations between all numeric features.\n",
    "    - Heatmaps are generally not appropriate for presentations, and should often be excluded from reports as they can be visually overwhelming. **However**, they can be extremely useful in identify relationships of potential interest (as well as identifying potential collinearity before modeling).\n",
    "    - Please take time to format your output, adding a title. Look through some of the additional arguments and options. (Axis labels aren't really necessary, as long as the title is informative).\n",
    "2. Visualize distributions using histograms. If you have a lot, consider writing a custom function and use subplots.\n",
    "    - *OPTIONAL*: Summarize the underlying distributions of your features (in words & statistics)\n",
    "         - Be thorough in your verbal description of these distributions.\n",
    "         - Be sure to back up these summaries with statistics.\n",
    "         - We generally assume that data we sample from a population will be normally distributed. Do we observe this trend? Explain your answers for each distribution and how you think this will affect estimates made from these data.\n",
    "3. Plot and interpret boxplots. \n",
    "    - Boxplots demonstrate central tendency and spread in variables. In a certain sense, these are somewhat redundant with histograms, but you may be better able to identify clear outliers or differences in IQR, etc.\n",
    "    - Multiple values can be plotted to a single boxplot as long as they are of the same relative scale (meaning they have similar min/max values).\n",
    "    - Each boxplot should:\n",
    "        - Only include variables of a similar scale\n",
    "        - Have clear labels for each variable\n",
    "        - Have appropriate titles and labels\n",
    "4. Plot and interpret scatter plots to view relationships between features. Feel free to write a custom function, and subplot if you'd like. Functions save both time and space.\n",
    "    - Your plots should have:\n",
    "        - Two clearly labeled axes\n",
    "        - A proper title\n",
    "        - Colors and symbols that are clear and unmistakable\n",
    "5. Additional plots of your choosing.\n",
    "    - Are there any additional trends or relationships you haven't explored? Was there something interesting you saw that you'd like to dive further into? It's likely that there are a few more plots you might want to generate to support your narrative and recommendations that you are building toward. **As always, make sure you're interpreting your plots as you go**."
   ]
  },
  {
   "cell_type": "markdown",
   "metadata": {},
   "source": []
  },
  {
   "cell_type": "markdown",
   "metadata": {},
   "source": []
  },
  {
   "cell_type": "markdown",
   "metadata": {},
   "source": [
    "1. Use Seaborn's heatmap with pandas `.corr()` to visualize correlations between all numeric features.\n",
    "    - Heatmaps are generally not appropriate for presentations, and should often be excluded from reports as they can be visually overwhelming. **However**, they can be extremely useful in identify relationships of potential interest (as well as identifying potential collinearity before modeling).\n",
    "    - Please take time to format your output, adding a title. Look through some of the additional arguments and options. (Axis labels aren't really necessary, as long as the title is informative)."
   ]
  },
  {
   "cell_type": "code",
   "execution_count": 61,
   "metadata": {},
   "outputs": [],
   "source": [
    "# Code\n",
    "import seaborn as sns"
   ]
  },
  {
   "cell_type": "markdown",
   "metadata": {},
   "source": [
    "##### Checking the correlation matrix and heatmap for SAT 2019 dataframe"
   ]
  },
  {
   "cell_type": "code",
   "execution_count": 62,
   "metadata": {},
   "outputs": [
    {
     "data": {
      "image/png": "[encoded data removed]",
      "text/plain": [
       "<Figure size 432x288 with 2 Axes>"
      ]
     },
     "metadata": {},
     "output_type": "display_data"
    }
   ],
   "source": [
    "sat_2019_df_corr =sat_three_years.loc[sat_three_years['year']==2019].corr() # filtering on 1 year of the data\n",
    "mask = np.zeros_like(sat_2019_df_corr)\n",
    "\n",
    "mask[np.triu_indices_from(mask)] = True\n",
    "with sns.axes_style(\"white\"):\n",
    "    s = sns.heatmap(sat_2019_df_corr,mask=mask,square= True, annot = True,  vmin = -1, vmax = 1, linewidths = .5)\n",
    "    s.set(xlabel='Explained Variable', ylabel='', title= 'Correlation matrix, year 2019')"
   ]
  },
  {
   "cell_type": "markdown",
   "metadata": {},
   "source": [
    "same conclusion arises with negative correlation between score_total and participation_percent"
   ]
  },
  {
   "cell_type": "markdown",
   "metadata": {},
   "source": [
    "2. Visualize distributions using histograms. If you have a lot, consider writing a custom function and use subplots.\n",
    "    - *OPTIONAL*: Summarize the underlying distributions of your features (in words & statistics)\n",
    "         - Be thorough in your verbal description of these distributions.\n",
    "         - Be sure to back up these summaries with statistics.\n",
    "         - We generally assume that data we sample from a population will be normally distributed. Do we observe this trend? Explain your answers for each distribution and how you think this will affect estimates made from these data."
   ]
  },
  {
   "cell_type": "markdown",
   "metadata": {},
   "source": [
    "##### plotting distribution of scores for 2017,2018,2019"
   ]
  },
  {
   "cell_type": "code",
   "execution_count": 63,
   "metadata": {},
   "outputs": [
    {
     "data": {
      "text/plain": [
       "[Text(0.5, 1.0, '2017 SAT scores disctribution')]"
      ]
     },
     "execution_count": 63,
     "metadata": {},
     "output_type": "execute_result"
    },
    {
     "data": {
      "image/png": "[encoded data removed]",
      "text/plain": [
       "<Figure size 432x288 with 1 Axes>"
      ]
     },
     "metadata": {
      "needs_background": "light"
     },
     "output_type": "display_data"
    }
   ],
   "source": [
    "plot_2017 = sns.histplot(sat_three_years.loc[sat_three_years['year']==2017,['score_total']], x=\"score_total\", bins = 10)\n",
    "plot_2017.set(title=\"2017 SAT scores disctribution\")"
   ]
  },
  {
   "cell_type": "code",
   "execution_count": 64,
   "metadata": {},
   "outputs": [
    {
     "data": {
      "text/plain": [
       "[Text(0.5, 1.0, '2018 SAT scores disctribution')]"
      ]
     },
     "execution_count": 64,
     "metadata": {},
     "output_type": "execute_result"
    },
    {
     "data": {
      "image/png": "[encoded data removed]",
      "text/plain": [
       "<Figure size 432x288 with 1 Axes>"
      ]
     },
     "metadata": {
      "needs_background": "light"
     },
     "output_type": "display_data"
    }
   ],
   "source": [
    "plot_2018 = sns.histplot(sat_three_years.loc[sat_three_years['year']==2018,['score_total']], x=\"score_total\", bins = 10)\n",
    "plot_2018.set(title=\"2018 SAT scores disctribution\")"
   ]
  },
  {
   "cell_type": "code",
   "execution_count": 65,
   "metadata": {},
   "outputs": [
    {
     "data": {
      "text/plain": [
       "[Text(0.5, 1.0, '2019 SAT scores disctribution')]"
      ]
     },
     "execution_count": 65,
     "metadata": {},
     "output_type": "execute_result"
    },
    {
     "data": {
      "image/png": "[encoded data removed]",
      "text/plain": [
       "<Figure size 432x288 with 1 Axes>"
      ]
     },
     "metadata": {
      "needs_background": "light"
     },
     "output_type": "display_data"
    }
   ],
   "source": [
    "plot_2019 = sns.histplot(sat_three_years.loc[sat_three_years['year']==2019,['score_total']], x=\"score_total\",bins = 10)\n",
    "plot_2019.set(title=\"2019 SAT scores disctribution\")"
   ]
  },
  {
   "cell_type": "markdown",
   "metadata": {},
   "source": [
    "#### None of the 3 years score_total is normally distributed - we see that results mostly range between [800- 1100] or [1200 and above]"
   ]
  },
  {
   "cell_type": "markdown",
   "metadata": {},
   "source": [
    "3. Plot and interpret boxplots. \n",
    "    - Boxplots demonstrate central tendency and spread in variables. In a certain sense, these are somewhat redundant with histograms, but you may be better able to identify clear outliers or differences in IQR, etc.\n",
    "    - Multiple values can be plotted to a single boxplot as long as they are of the same relative scale (meaning they have similar min/max values).\n",
    "    - Each boxplot should:\n",
    "        - Only include variables of a similar scale\n",
    "        - Have clear labels for each variable\n",
    "        - Have appropriate titles and labels"
   ]
  },
  {
   "cell_type": "markdown",
   "metadata": {},
   "source": [
    "#lets look at the 3 years side by side:"
   ]
  },
  {
   "cell_type": "code",
   "execution_count": 107,
   "metadata": {},
   "outputs": [
    {
     "data": {
      "text/plain": [
       "Text(0.5, 1.0, 'score total')"
      ]
     },
     "execution_count": 107,
     "metadata": {},
     "output_type": "execute_result"
    },
    {
     "data": {
      "image/png": "[encoded data removed]",
      "text/plain": [
       "<Figure size 432x288 with 1 Axes>"
      ]
     },
     "metadata": {},
     "output_type": "display_data"
    }
   ],
   "source": [
    "from matplotlib import colors\n",
    "\n",
    "colors=['#78C850', '#F08030',  '#6890F0',  '#A8B820']\n",
    "sns.set_theme(style=\"whitegrid\")\n",
    "\n",
    "ax = sns.boxplot(x=sat_three_years['year'] , y=sat_three_years['score_total'],palette=\"Blues\")\n",
    "boxplot_years = ax\n",
    "boxplot_years.set_title(\"score total\")"
   ]
  },
  {
   "cell_type": "code",
   "execution_count": 106,
   "metadata": {},
   "outputs": [
    {
     "data": {
      "text/plain": [
       "Text(0.5, 1.0, 'violin plot for SAT total score distribution per year')"
      ]
     },
     "execution_count": 106,
     "metadata": {},
     "output_type": "execute_result"
    },
    {
     "data": {
      "image/png": "[encoded data removed]",
      "text/plain": [
       "<Figure size 432x288 with 1 Axes>"
      ]
     },
     "metadata": {},
     "output_type": "display_data"
    }
   ],
   "source": [
    "ax = sns.violinplot(x=\"year\", y=\"score_total\", \n",
    "                    data=sat_three_years, palette=\"Blues\", split=True,\n",
    "                    scale=\"count\",)\n",
    "ax.set_title (\"violin plot for SAT total score distribution per year\")\n",
    "\n"
   ]
  },
  {
   "cell_type": "markdown",
   "metadata": {},
   "source": [
    "#breaking the years by subject: math"
   ]
  },
  {
   "cell_type": "code",
   "execution_count": 67,
   "metadata": {},
   "outputs": [
    {
     "data": {
      "text/plain": [
       "Text(0.5, 1.0, 'score math')"
      ]
     },
     "execution_count": 67,
     "metadata": {},
     "output_type": "execute_result"
    },
    {
     "data": {
      "image/png": "[encoded data removed]",
      "text/plain": [
       "<Figure size 432x288 with 1 Axes>"
      ]
     },
     "metadata": {},
     "output_type": "display_data"
    }
   ],
   "source": [
    "boxplot_math = sns.boxplot(x=sat_three_years['year'] , y=sat_three_years['score_math'])\n",
    "boxplot_math.set_title(\"score math\")"
   ]
  },
  {
   "cell_type": "code",
   "execution_count": 73,
   "metadata": {},
   "outputs": [
    {
     "data": {
      "text/plain": [
       "Text(0.5, 1.0, 'score reading_writing')"
      ]
     },
     "execution_count": 73,
     "metadata": {},
     "output_type": "execute_result"
    },
    {
     "data": {
      "image/png": "[encoded data removed]",
      "text/plain": [
       "<Figure size 432x288 with 1 Axes>"
      ]
     },
     "metadata": {},
     "output_type": "display_data"
    }
   ],
   "source": [
    "boxplot_ebrw = sns.boxplot(x=sat_three_years['year'] , y=sat_three_years['score_read_write'])\n",
    "boxplot_ebrw.set_title(\"score reading_writing\")"
   ]
  },
  {
   "cell_type": "markdown",
   "metadata": {},
   "source": [
    "we visually see the wider sd in 2019, confirming the table line [std](#std)"
   ]
  },
  {
   "cell_type": "markdown",
   "metadata": {},
   "source": [
    "4. Plot and interpret scatter plots to view relationships between features. Feel free to write a custom function, and subplot if you'd like. Functions save both time and space.\n",
    "    - Your plots should have:\n",
    "        - Two clearly labeled axes\n",
    "        - A proper title\n",
    "        - Colors and symbols that are clear and unmistakable"
   ]
  },
  {
   "cell_type": "code",
   "execution_count": null,
   "metadata": {},
   "outputs": [
    {
     "data": {
      "text/plain": [
       "Text(0.5, 1.0, 'SAT 2019: relation between participation rate and total score')"
      ]
     },
     "execution_count": 121,
     "metadata": {},
     "output_type": "execute_result"
    },
    {
     "data": {
      "image/png": "[encoded data removed]",
      "text/plain": [
       "<Figure size 432x288 with 1 Axes>"
      ]
     },
     "metadata": {},
     "output_type": "display_data"
    }
   ],
   "source": [
    "# Create scatterplot participation_percent vs score_total for year 2019.\n",
    "from matplotlib import pyplot\n",
    "\n",
    "scatterplot = sns.regplot(x=sat_three_years.loc[sat_three_years['year']==2019, ['score_total']],\n",
    "y= sat_three_years.loc[sat_three_years['year']==2019, ['participation_percent']], ci=None)\n",
    "\n",
    "pyplot.title(\"SAT 2019: relation between participation rate and total score\")"
   ]
  },
  {
   "cell_type": "markdown",
   "metadata": {},
   "source": [
    "*correlation confirmed by this chart for the year 2019*"
   ]
  },
  {
   "cell_type": "markdown",
   "metadata": {},
   "source": [
    "#looking at the chart by intended major "
   ]
  },
  {
   "cell_type": "code",
   "execution_count": null,
   "metadata": {},
   "outputs": [
    {
     "data": {
      "image/png": "[encoded data removed]",
      "text/plain": [
       "<Figure size 432x288 with 1 Axes>"
      ]
     },
     "metadata": {},
     "output_type": "display_data"
    }
   ],
   "source": [
    "import matplotlib.pyplot as plt\n",
    "\n",
    "# Create scatterplot participation_percent vs score_total for year 2019.\n",
    "plt.scatter(sat_2019_intended_major['score_total'],\n",
    "            sat_2019_intended_major['participation_percent']);\n",
    "plt.title(\"SAT - relation between score_total and participation_percent, year 2019\")\n",
    "plt.xlabel(\"score_total\", fontsize = 10)\n",
    "plt.ylabel(\"participation_percent by intended major\", fontsize = 10);"
   ]
  },
  {
   "cell_type": "code",
   "execution_count": 78,
   "metadata": {},
   "outputs": [
    {
     "data": {
      "image/png": "[encoded data removed]",
      "text/plain": [
       "<Figure size 432x288 with 1 Axes>"
      ]
     },
     "metadata": {},
     "output_type": "display_data"
    }
   ],
   "source": []
  },
  {
   "cell_type": "markdown",
   "metadata": {},
   "source": [
    "#we can see any correlation between participation_percent and score total, because the participants for 1 given major are scattered across SAT-mandatory and non-mandatory states, hence blurring the picture\n",
    "It would be helpful to have the same table with an extra \"state\" dimension to cross-reference participation rate, state and score "
   ]
  },
  {
   "cell_type": "markdown",
   "metadata": {},
   "source": [
    "## Conclusions and Recommendations"
   ]
  },
  {
   "cell_type": "markdown",
   "metadata": {},
   "source": [
    "Based on your exploration of the data, what are you key takeaways and recommendations? Make sure to answer your question of interest or address your problem statement here."
   ]
  },
  {
   "cell_type": "markdown",
   "metadata": {},
   "source": [
    "**To-Do:** <br>\n",
    "*SAT Score results seem heavily correlated to the % of participation in each state. this is verified for the last 3 years* <br>\n",
    "*From several articles, this is explained by some states enforcing SAT before graduating from high school, and some don't.*<br>\n",
    "*in non-enforcing states, only highly motivated students will take the test and score high. But to answer the problem statement, the state average is not a predictor of academic excellence for students from this state*<br>  "
   ]
  },
  {
   "cell_type": "markdown",
   "metadata": {},
   "source": [
    "Don't forget to create your README!\n",
    "\n",
    "**To-Do:** *If you combine your problem statement, data dictionary, brief summary of your analysis, and conclusions/recommendations, you have an amazing README.md file that quickly aligns your audience to the contents of your project.* Don't forget to cite your data sources!"
   ]
  },
  {
   "cell_type": "markdown",
   "metadata": {},
   "source": []
  }
 ],
 "metadata": {
  "anaconda-cloud": {},
  "kernelspec": {
   "display_name": "Python 3.9.12 ('base')",
   "language": "python",
   "name": "python3"
  },
  "language_info": {
   "codemirror_mode": {
    "name": "ipython",
    "version": 3
   },
   "file_extension": ".py",
   "mimetype": "text/x-python",
   "name": "python",
   "nbconvert_exporter": "python",
   "pygments_lexer": "ipython3",
   "version": "3.9.12"
  },
  "vscode": {
   "interpreter": {
    "hash": "f71697013d76e192046347603e9541ea88dc58adcc0e0b5a71eda0b6e40070d8"
   }
  }
 },
 "nbformat": 4,
 "nbformat_minor": 4
}
